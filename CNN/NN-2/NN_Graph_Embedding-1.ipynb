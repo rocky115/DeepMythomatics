{
 "cells": [
  {
   "cell_type": "code",
   "execution_count": null,
   "id": "a4cbd248",
   "metadata": {},
   "outputs": [],
   "source": [
    "'''\n",
    " * Copyright (c) 2018 Radhamadhab Dalai\n",
    " *\n",
    " * Permission is hereby granted, free of charge, to any person obtaining a copy\n",
    " * of this software and associated documentation files (the \"Software\"), to deal\n",
    " * in the Software without restriction, including without limitation the rights\n",
    " * to use, copy, modify, merge, publish, distribute, sublicense, and/or sell\n",
    " * copies of the Software, and to permit persons to whom the Software is\n",
    " * furnished to do so, subject to the following conditions:\n",
    " *\n",
    " * The above copyright notice and this permission notice shall be included in\n",
    " * all copies or substantial portions of the Software.\n",
    " *\n",
    " * THE SOFTWARE IS PROVIDED \"AS IS\", WITHOUT WARRANTY OF ANY KIND, EXPRESS OR\n",
    " * IMPLIED, INCLUDING BUT NOT LIMITED TO THE WARRANTIES OF MERCHANTABILITY,\n",
    " * FITNESS FOR A PARTICULAR PURPOSE AND NONINFRINGEMENT. IN NO EVENT SHALL THE\n",
    " * AUTHORS OR COPYRIGHT HOLDERS BE LIABLE FOR ANY CLAIM, DAMAGES OR OTHER\n",
    " * LIABILITY, WHETHER IN AN ACTION OF CONTRACT, TORT OR OTHERWISE, ARISING FROM,\n",
    " * OUT OF OR IN CONNECTION WITH THE SOFTWARE OR THE USE OR OTHER DEALINGS IN\n",
    " * THE SOFTWARE.\n",
    "'''"
   ]
  },
  {
   "cell_type": "markdown",
   "id": "c7da4d25",
   "metadata": {},
   "source": [
    "We first introduce the definition of the basic concepts in graph embedding. Suppose we are given a graph \\( G = (V, E) \\), where \\( v \\in V \\) is a vertex or node and \\( e \\in E \\) is an edge. \\( G \\) is associated with a node type mapping function \\( f_v: V \\to T_v \\) and an edge type mapping function \\( f_e: E \\to T_e \\), where \\( T_v \\) and \\( T_e \\) denote the set of node types and edge types, respectively. Each node \\( v_i \\in V \\) belongs to one particular type, i.e., \\( f_v(v_i) \\in T_v \\). Similarly, for \\( e_{ij} \\in E \\), \\( f_e(e_{ij}) \\in T_e \\).\n",
    "\n",
    "Graph learning is closely related to graph proximities and graph embedding. Graph learning tasks can be broadly abstracted into the following four categories:\n",
    "- **Node classification** aims at determining the label of nodes (a.k.a. vertices) based on other labeled nodes and the topology of the network.\n",
    "- **Link prediction** refers to the task of predicting missing links or links that are likely to occur in the future.\n",
    "- **Clustering** is used to find subsets of similar nodes and group them together.\n",
    "- **Visualization** helps in providing insights into the structure of the network.\n",
    "\n",
    "The most basic measure for both dimension reduction and structure preservation of a graph is the graph proximity. Proximity measures are usually adopted to quantify the graph property to be preserved in the embedded space.\n",
    "\n",
    "The microscopic structures of a graph can be described by its first-order proximity and second-order proximity. The first-order proximity between the vertices is their local pairwise similarity between only the nodes connected by edges.\n",
    "\n",
    "**Definition 7.10 (First-Order Proximity [144])** The first-order proximity is the observed pairwise proximity between two nodes \\( v_i \\) and \\( v_j \\), denoted as \\( S_{ij}^{(1)} = s_{ij} \\), where \\( s_{ij} \\) is the edge weight between the two nodes. If no edge is observed between nodes \\( i \\) and \\( j \\), then their first-order proximity \\( S_{ij}^{(1)} = 0 \\).\n",
    "\n",
    "The first-order proximity is the first and foremost measure of similarity between two nodes. The first-order proximity implies that two nodes in real-world networks are always similar if they are linked by an observed edge. For example, if a paper cites another paper, they should contain some common topic or keywords. However, it is not sufficient to only capture the first-order proximity, and it is also necessary to introduce the second-order proximity to capture the global network structure.\n",
    "\n",
    "**Definition 7.11 (Second-Order Proximity [144])** Let \\( \\mathbf{s}_i^{(1)} = [S_{i,1}^{(1)}, \\ldots, S_{i,n}^{(1)}]^T \\) and \\( \\mathbf{s}_i^{(2)} = [S_{i,1}^{(2)}, \\ldots, S_{i,n}^{(2)}]^T \\) be the first-order and the second-order proximity vectors between node \\( i \\) and other nodes, respectively. Then the second-order proximity \\( S_{ij}^{(2)} \\) is determined by the similarity of \\( \\mathbf{s}_i^{(1)} \\) and \\( \\mathbf{s}_j^{(1)} \\). If no vertex is linked from/to both \\( i \\) and \\( j \\), then the second-order proximity between \\( v_i \\) and \\( v_j \\) is zero, i.e., \\( S_{ij}^{(2)} = 0 \\).\n",
    "\n",
    "The second-order proximity \\( S_{ij}^{(2)} \\) is the similarity between \\( v_i \\)’s neighborhood \\( \\mathbf{s}_i^{(1)} \\) and \\( v_j \\)’s neighborhood \\( \\mathbf{s}_j^{(1)} \\).\n",
    "\n",
    "- The first-order proximity compares the similarity between the nodes \\( i \\) and \\( j \\). The more similar two nodes are, the larger the first-order proximity value between them.\n",
    "- The second-order proximity compares the similarity between the nodes’ neighborhood structures. The more similar two nodes’ neighborhoods are, the larger the second-order proximity value between them.\n",
    "\n",
    "Similarly, we can define the higher-order proximity \\( S_{ij}^{(k)} \\) (where \\( k \\geq 3 \\)) between a pair of vertices \\( (i, j) \\) in a graph.\n",
    "\n",
    "**Definition 7.12 (k-Order Proximity)** Let \\( \\mathbf{s}_i^{(k)} = [S_{i,1}^{(k)}, \\ldots, S_{i,n}^{(k)}]^T \\) be the \\( k \\)-th order proximity vector between node \\( i \\) and other nodes. Then the \\( k \\)-th order proximity \\( S_{ij}^{(k)} \\) is determined by the similarity of \\( \\mathbf{s}_i^{(k-1)} \\) and \\( \\mathbf{s}_j^{(k-1)} \\).\n",
    "\n",
    "In particular, when \\( k \\geq 3 \\), the \\( k \\)-th order proximity is generally referred to as the higher-order proximity. The matrix \\( S^{(k)} = [S_{ij}^{(k)}] \\) is known as the \\( k \\)-order proximity matrix. When \\( k \\geq 3 \\), \\( S^{(k)} \\) is called the higher-order proximity matrix. The higher-order proximity matrices are also defined using some other metrics, e.g., Katz Index, Rooted PageRank, Adamic-Adar, etc. that will be discussed in Sect. 7.13.3.\n",
    "\n",
    "By Definitions 7.10, 7.11, and 7.12, the first-order, second-order, and third-order proximity matrices \\( S^{(k)} = [S_{ij}^{(k)}] \\in \\mathbb{R}^{n \\times n} \\) (where \\( k = 1, 2, 3 \\)) are nonnegative matrices, respectively.\n",
    "\n",
    "If considering the cosine similarity as the \\( k \\)-order proximity, then for nodes \\( v_i \\) and \\( v_j \\), we have the following results:\n",
    "1. The first-order proximity\n",
    "$$\n",
    "S_{ij}^{(1)} = s_{ij}\n",
    "$$\n",
    "where \\( s_{ij} \\) is the edge weight between the two nodes.\n",
    "\n",
    "2. The second-order proximity\n",
    "$$\n",
    "S_{ij}^{(2)} = \\frac{\\mathbf{s}_i^{(1)} \\cdot \\mathbf{s}_j^{(1)}}{\\| \\mathbf{s}_i^{(1)} \\|_2 \\| \\mathbf{s}_j^{(1)} \\|_2} = \\frac{\\sum_{l=1}^{n} S_{i,l}^{(1)} S_{j,l}^{(1)}}{\\sqrt{\\sum_{l=1}^{n} (S_{i,l}^{(1)})^2} \\sqrt{\\sum_{l=1}^{n} (S_{j,l}^{(1)})^2}}\n",
    "$$\n",
    "In this way, the second-order proximity is between \\([0, 1]\\).\n",
    "\n",
    "3. The third-order proximity\n",
    "$$\n",
    "S_{ij}^{(3)} = \\frac{\\| \\mathbf{s}_i^{(2)} \\|_2 \\| \\mathbf{s}_j^{(2)} \\|_2}{\\sum_{l=1}^{n} (S_{i,l}^{(2)})^2 \\sum_{l=1}^{n} (S_{j,l}^{(2)})^2}\n",
    "$$\n",
    "\n",
    "**Definition 7.13 (Graph Embedding [14, 41])** Given the inputs of a graph \\( G = (V, E) \\), and a predefined dimensionality of the embedding \\( d \\) (\\( d \\ll |V| \\)), the graph embedding is to convert \\( G \\) into a \\( d \\)-dimensional space \\( \\mathbb{R}^d \\). In this space, the graph properties (such as the first-order, second-order, and higher-order proximities) are preserved as much as possible. The graph is represented as either a \\( d \\)-dimensional vector (for a whole graph) or a set of \\( d \\)-dimensional vectors with each vector representing the embedding of part of the graph (e.g., node, edge, substructure). Therefore, a graph embedding maps each node of graph \\( G(E, V) \\) to a low-dimensional feature vector \\( \\mathbf{y}_i \\) and tries to preserve the connection strengths between vertices. For example, a graph embedding preserving first-order proximity might be obtained by minimizing\n",
    "$$\n",
    "\\sum_{i,j} s_{ij} \\| \\mathbf{y}_i - \\mathbf{y}_j \\|^2_2\n",
    "$$\n",
    "\n",
    "Graph embedding is an important method for learning low-dimensional representations of vertices in networks, aiming to capture and preserve the network structure. Learning network representations faces the following great challenges [154]:\n",
    "1. **High nonlinearity:** The underlying structure of a graph or network is highly nonlinear. Therefore, designing a model to capture the highly nonlinear structure is rather difficult.\n",
    "2. **Topology structure-preserving:** To support applications in analyzing networks, network embedding is required to preserve the network structure. However, the underlying structure of the network is very complex. The similarity of vertices is dependent on both the local and global network structures. Therefore, how to simultaneously preserve the local"
   ]
  },
  {
   "cell_type": "code",
   "execution_count": 1,
   "id": "9381c72d",
   "metadata": {},
   "outputs": [
    {
     "data": {
      "application/vnd.jupyter.widget-view+json": {
       "model_id": "071081feadb540c690cb0f735ed15c84",
       "version_major": 2,
       "version_minor": 0
      },
      "text/plain": [
       "Computing transition probabilities:   0%|          | 0/7 [00:00<?, ?it/s]"
      ]
     },
     "metadata": {},
     "output_type": "display_data"
    },
    {
     "name": "stderr",
     "output_type": "stream",
     "text": [
      "Generating walks (CPU: 2): 100%|██████████| 50/50 [00:01<00:00, 27.45it/s]"
     ]
    },
    {
     "ename": "KeyError",
     "evalue": "\"Key '7' not present\"",
     "output_type": "error",
     "traceback": [
      "\u001b[0;31m---------------------------------------------------------------------------\u001b[0m",
      "\u001b[0;31mKeyError\u001b[0m                                  Traceback (most recent call last)",
      "\u001b[0;32m/tmp/ipykernel_8005/2180222366.py\u001b[0m in \u001b[0;36m<module>\u001b[0;34m\u001b[0m\n\u001b[1;32m     24\u001b[0m \u001b[0;34m\u001b[0m\u001b[0m\n\u001b[1;32m     25\u001b[0m \u001b[0;31m# Get node embeddings\u001b[0m\u001b[0;34m\u001b[0m\u001b[0;34m\u001b[0m\u001b[0;34m\u001b[0m\u001b[0m\n\u001b[0;32m---> 26\u001b[0;31m \u001b[0membeddings\u001b[0m \u001b[0;34m=\u001b[0m \u001b[0;34m{\u001b[0m\u001b[0mnode\u001b[0m\u001b[0;34m:\u001b[0m \u001b[0mmodel\u001b[0m\u001b[0;34m.\u001b[0m\u001b[0mwv\u001b[0m\u001b[0;34m[\u001b[0m\u001b[0mnode\u001b[0m\u001b[0;34m]\u001b[0m \u001b[0;32mfor\u001b[0m \u001b[0mnode\u001b[0m \u001b[0;32min\u001b[0m \u001b[0mG\u001b[0m\u001b[0;34m.\u001b[0m\u001b[0mnodes\u001b[0m\u001b[0;34m(\u001b[0m\u001b[0;34m)\u001b[0m\u001b[0;34m}\u001b[0m\u001b[0;34m\u001b[0m\u001b[0;34m\u001b[0m\u001b[0m\n\u001b[0m\u001b[1;32m     27\u001b[0m \u001b[0;34m\u001b[0m\u001b[0m\n\u001b[1;32m     28\u001b[0m \u001b[0;31m# Convert embeddings to a matrix\u001b[0m\u001b[0;34m\u001b[0m\u001b[0;34m\u001b[0m\u001b[0;34m\u001b[0m\u001b[0m\n",
      "\u001b[0;32m/tmp/ipykernel_8005/2180222366.py\u001b[0m in \u001b[0;36m<dictcomp>\u001b[0;34m(.0)\u001b[0m\n\u001b[1;32m     24\u001b[0m \u001b[0;34m\u001b[0m\u001b[0m\n\u001b[1;32m     25\u001b[0m \u001b[0;31m# Get node embeddings\u001b[0m\u001b[0;34m\u001b[0m\u001b[0;34m\u001b[0m\u001b[0;34m\u001b[0m\u001b[0m\n\u001b[0;32m---> 26\u001b[0;31m \u001b[0membeddings\u001b[0m \u001b[0;34m=\u001b[0m \u001b[0;34m{\u001b[0m\u001b[0mnode\u001b[0m\u001b[0;34m:\u001b[0m \u001b[0mmodel\u001b[0m\u001b[0;34m.\u001b[0m\u001b[0mwv\u001b[0m\u001b[0;34m[\u001b[0m\u001b[0mnode\u001b[0m\u001b[0;34m]\u001b[0m \u001b[0;32mfor\u001b[0m \u001b[0mnode\u001b[0m \u001b[0;32min\u001b[0m \u001b[0mG\u001b[0m\u001b[0;34m.\u001b[0m\u001b[0mnodes\u001b[0m\u001b[0;34m(\u001b[0m\u001b[0;34m)\u001b[0m\u001b[0;34m}\u001b[0m\u001b[0;34m\u001b[0m\u001b[0;34m\u001b[0m\u001b[0m\n\u001b[0m\u001b[1;32m     27\u001b[0m \u001b[0;34m\u001b[0m\u001b[0m\n\u001b[1;32m     28\u001b[0m \u001b[0;31m# Convert embeddings to a matrix\u001b[0m\u001b[0;34m\u001b[0m\u001b[0;34m\u001b[0m\u001b[0;34m\u001b[0m\u001b[0m\n",
      "\u001b[0;32m~/anaconda3/envs/cv37/lib/python3.7/site-packages/gensim/models/keyedvectors.py\u001b[0m in \u001b[0;36m__getitem__\u001b[0;34m(self, key_or_keys)\u001b[0m\n\u001b[1;32m    402\u001b[0m         \"\"\"\n\u001b[1;32m    403\u001b[0m         \u001b[0;32mif\u001b[0m \u001b[0misinstance\u001b[0m\u001b[0;34m(\u001b[0m\u001b[0mkey_or_keys\u001b[0m\u001b[0;34m,\u001b[0m \u001b[0m_KEY_TYPES\u001b[0m\u001b[0;34m)\u001b[0m\u001b[0;34m:\u001b[0m\u001b[0;34m\u001b[0m\u001b[0;34m\u001b[0m\u001b[0m\n\u001b[0;32m--> 404\u001b[0;31m             \u001b[0;32mreturn\u001b[0m \u001b[0mself\u001b[0m\u001b[0;34m.\u001b[0m\u001b[0mget_vector\u001b[0m\u001b[0;34m(\u001b[0m\u001b[0mkey_or_keys\u001b[0m\u001b[0;34m)\u001b[0m\u001b[0;34m\u001b[0m\u001b[0;34m\u001b[0m\u001b[0m\n\u001b[0m\u001b[1;32m    405\u001b[0m \u001b[0;34m\u001b[0m\u001b[0m\n\u001b[1;32m    406\u001b[0m         \u001b[0;32mreturn\u001b[0m \u001b[0mvstack\u001b[0m\u001b[0;34m(\u001b[0m\u001b[0;34m[\u001b[0m\u001b[0mself\u001b[0m\u001b[0;34m.\u001b[0m\u001b[0mget_vector\u001b[0m\u001b[0;34m(\u001b[0m\u001b[0mkey\u001b[0m\u001b[0;34m)\u001b[0m \u001b[0;32mfor\u001b[0m \u001b[0mkey\u001b[0m \u001b[0;32min\u001b[0m \u001b[0mkey_or_keys\u001b[0m\u001b[0;34m]\u001b[0m\u001b[0;34m)\u001b[0m\u001b[0;34m\u001b[0m\u001b[0;34m\u001b[0m\u001b[0m\n",
      "\u001b[0;32m~/anaconda3/envs/cv37/lib/python3.7/site-packages/gensim/models/keyedvectors.py\u001b[0m in \u001b[0;36mget_vector\u001b[0;34m(self, key, norm)\u001b[0m\n\u001b[1;32m    445\u001b[0m \u001b[0;34m\u001b[0m\u001b[0m\n\u001b[1;32m    446\u001b[0m         \"\"\"\n\u001b[0;32m--> 447\u001b[0;31m         \u001b[0mindex\u001b[0m \u001b[0;34m=\u001b[0m \u001b[0mself\u001b[0m\u001b[0;34m.\u001b[0m\u001b[0mget_index\u001b[0m\u001b[0;34m(\u001b[0m\u001b[0mkey\u001b[0m\u001b[0;34m)\u001b[0m\u001b[0;34m\u001b[0m\u001b[0;34m\u001b[0m\u001b[0m\n\u001b[0m\u001b[1;32m    448\u001b[0m         \u001b[0;32mif\u001b[0m \u001b[0mnorm\u001b[0m\u001b[0;34m:\u001b[0m\u001b[0;34m\u001b[0m\u001b[0;34m\u001b[0m\u001b[0m\n\u001b[1;32m    449\u001b[0m             \u001b[0mself\u001b[0m\u001b[0;34m.\u001b[0m\u001b[0mfill_norms\u001b[0m\u001b[0;34m(\u001b[0m\u001b[0;34m)\u001b[0m\u001b[0;34m\u001b[0m\u001b[0;34m\u001b[0m\u001b[0m\n",
      "\u001b[0;32m~/anaconda3/envs/cv37/lib/python3.7/site-packages/gensim/models/keyedvectors.py\u001b[0m in \u001b[0;36mget_index\u001b[0;34m(self, key, default)\u001b[0m\n\u001b[1;32m    419\u001b[0m             \u001b[0;32mreturn\u001b[0m \u001b[0mdefault\u001b[0m\u001b[0;34m\u001b[0m\u001b[0;34m\u001b[0m\u001b[0m\n\u001b[1;32m    420\u001b[0m         \u001b[0;32melse\u001b[0m\u001b[0;34m:\u001b[0m\u001b[0;34m\u001b[0m\u001b[0;34m\u001b[0m\u001b[0m\n\u001b[0;32m--> 421\u001b[0;31m             \u001b[0;32mraise\u001b[0m \u001b[0mKeyError\u001b[0m\u001b[0;34m(\u001b[0m\u001b[0;34mf\"Key '{key}' not present\"\u001b[0m\u001b[0;34m)\u001b[0m\u001b[0;34m\u001b[0m\u001b[0;34m\u001b[0m\u001b[0m\n\u001b[0m\u001b[1;32m    422\u001b[0m \u001b[0;34m\u001b[0m\u001b[0m\n\u001b[1;32m    423\u001b[0m     \u001b[0;32mdef\u001b[0m \u001b[0mget_vector\u001b[0m\u001b[0;34m(\u001b[0m\u001b[0mself\u001b[0m\u001b[0;34m,\u001b[0m \u001b[0mkey\u001b[0m\u001b[0;34m,\u001b[0m \u001b[0mnorm\u001b[0m\u001b[0;34m=\u001b[0m\u001b[0;32mFalse\u001b[0m\u001b[0;34m)\u001b[0m\u001b[0;34m:\u001b[0m\u001b[0;34m\u001b[0m\u001b[0;34m\u001b[0m\u001b[0m\n",
      "\u001b[0;31mKeyError\u001b[0m: \"Key '7' not present\""
     ]
    }
   ],
   "source": [
    "# graph_embedding.py\n",
    "\n",
    "import networkx as nx\n",
    "from node2vec import Node2Vec\n",
    "from sklearn.decomposition import PCA\n",
    "import matplotlib.pyplot as plt\n",
    "import pandas as pd\n",
    "\n",
    "# Create a graph\n",
    "G = nx.Graph()\n",
    "\n",
    "# Add nodes and edges\n",
    "G.add_edges_from([\n",
    "    (1, 2), (1, 3), (2, 4), (3, 4),\n",
    "    (4, 5), (5, 6), (6, 7), (7, 5)\n",
    "])\n",
    "\n",
    "# Optionally, add node attributes or edge weights\n",
    "nx.set_node_attributes(G, {1: 'A', 2: 'B', 3: 'C', 4: 'D', 5: 'E', 6: 'F', 7: 'G'}, 'label')\n",
    "\n",
    "# Apply Node2Vec\n",
    "node2vec = Node2Vec(G, dimensions=64, walk_length=30, num_walks=200, workers=4)\n",
    "model = node2vec.fit(window=10, min_count=1, sg=1)\n",
    "\n",
    "# Get node embeddings\n",
    "embeddings = {node: model.wv[node] for node in G.nodes()}\n",
    "\n",
    "# Convert embeddings to a matrix\n",
    "embedding_matrix = [embeddings[node] for node in G.nodes()]\n",
    "\n",
    "# Perform PCA to reduce to 2 dimensions for visualization\n",
    "pca = PCA(n_components=2)\n",
    "reduced_embeddings = pca.fit_transform(embedding_matrix)\n",
    "\n",
    "# Create a DataFrame for plotting\n",
    "df = pd.DataFrame(reduced_embeddings, index=G.nodes(), columns=['x', 'y'])\n",
    "\n",
    "# Plotting\n",
    "plt.figure(figsize=(10, 8))\n",
    "plt.scatter(df['x'], df['y'])\n",
    "\n",
    "for node, (x, y) in df.iterrows():\n",
    "    plt.text(x, y, str(node), fontsize=12)\n",
    "\n",
    "plt.title('Node Embeddings Visualization')\n",
    "plt.xlabel('Principal Component 1')\n",
    "plt.ylabel('Principal Component 2')\n",
    "plt.grid(True)\n",
    "plt.show()\n"
   ]
  },
  {
   "cell_type": "code",
   "execution_count": 2,
   "id": "39af10c4",
   "metadata": {},
   "outputs": [
    {
     "data": {
      "application/vnd.jupyter.widget-view+json": {
       "model_id": "440ccb17ce184e2ea986ceb9417f7b7e",
       "version_major": 2,
       "version_minor": 0
      },
      "text/plain": [
       "Computing transition probabilities:   0%|          | 0/7 [00:00<?, ?it/s]"
      ]
     },
     "metadata": {},
     "output_type": "display_data"
    },
    {
     "name": "stderr",
     "output_type": "stream",
     "text": [
      "\n",
      "Generating walks (CPU: 1):   0%|          | 0/50 [00:00<?, ?it/s]\n",
      "Generating walks (CPU: 2):   0%|          | 0/50 [00:00<?, ?it/s]\n",
      "Generating walks (CPU: 3):   0%|          | 0/50 [00:00<?, ?it/s]\n",
      "Generating walks (CPU: 3): 100%|██████████| 50/50 [00:01<00:00, 28.15it/s]"
     ]
    },
    {
     "data": {
      "image/png": "[encoded data removed]",
      "text/plain": [
       "<Figure size 1000x800 with 1 Axes>"
      ]
     },
     "metadata": {},
     "output_type": "display_data"
    }
   ],
   "source": [
    "# graph_embedding.py\n",
    "\n",
    "import networkx as nx\n",
    "from node2vec import Node2Vec\n",
    "from sklearn.decomposition import PCA\n",
    "import matplotlib.pyplot as plt\n",
    "import pandas as pd\n",
    "\n",
    "# Create a graph\n",
    "G = nx.Graph()\n",
    "\n",
    "# Add nodes and edges\n",
    "G.add_edges_from([\n",
    "    (1, 2), (1, 3), (2, 4), (3, 4),\n",
    "    (4, 5), (5, 6), (6, 7), (7, 5)\n",
    "])\n",
    "\n",
    "# Optionally, add node attributes or edge weights\n",
    "nx.set_node_attributes(G, {1: 'A', 2: 'B', 3: 'C', 4: 'D', 5: 'E', 6: 'F', 7: 'G'}, 'label')\n",
    "\n",
    "# Apply Node2Vec\n",
    "node2vec = Node2Vec(G, dimensions=64, walk_length=30, num_walks=200, workers=4)\n",
    "model = node2vec.fit(window=10, min_count=1, sg=1)\n",
    "\n",
    "# Check if all nodes are in the model's vocabulary\n",
    "nodes = list(G.nodes())\n",
    "missing_nodes = [node for node in nodes if str(node) not in model.wv]\n",
    "\n",
    "if missing_nodes:\n",
    "    print(f\"Warning: Nodes not in the model's vocabulary: {missing_nodes}\")\n",
    "\n",
    "# Get node embeddings, handle missing nodes\n",
    "embeddings = {node: model.wv[str(node)] for node in G.nodes() if str(node) in model.wv}\n",
    "\n",
    "# Convert embeddings to a matrix\n",
    "embedding_matrix = [embeddings[node] for node in G.nodes() if str(node) in model.wv]\n",
    "\n",
    "# Ensure all nodes are in the embedding matrix\n",
    "if not embedding_matrix:\n",
    "    raise ValueError(\"No valid embeddings found. Ensure the graph nodes are in the model's vocabulary.\")\n",
    "\n",
    "# Perform PCA to reduce to 2 dimensions for visualization\n",
    "pca = PCA(n_components=2)\n",
    "reduced_embeddings = pca.fit_transform(embedding_matrix)\n",
    "\n",
    "# Create a DataFrame for plotting\n",
    "df = pd.DataFrame(reduced_embeddings, index=[node for node in G.nodes() if str(node) in model.wv], columns=['x', 'y'])\n",
    "\n",
    "# Plotting\n",
    "plt.figure(figsize=(10, 8))\n",
    "plt.scatter(df['x'], df['y'])\n",
    "\n",
    "for node, (x, y) in df.iterrows():\n",
    "    plt.text(x, y, str(node), fontsize=12)\n",
    "\n",
    "plt.title('Node Embeddings Visualization')\n",
    "plt.xlabel('Principal Component 1')\n",
    "plt.ylabel('Principal Component 2')\n",
    "plt.grid(True)\n",
    "plt.show()\n"
   ]
  },
  {
   "cell_type": "code",
   "execution_count": null,
   "id": "61d74ec7",
   "metadata": {},
   "outputs": [],
   "source": []
  }
 ],
 "metadata": {
  "kernelspec": {
   "display_name": "Python 3 (ipykernel)",
   "language": "python",
   "name": "python3"
  },
  "language_info": {
   "codemirror_mode": {
    "name": "ipython",
    "version": 3
   },
   "file_extension": ".py",
   "mimetype": "text/x-python",
   "name": "python",
   "nbconvert_exporter": "python",
   "pygments_lexer": "ipython3",
   "version": "3.7.16"
  }
 },
 "nbformat": 4,
 "nbformat_minor": 5
}
