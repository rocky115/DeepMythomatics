{
 "cells": [
  {
   "cell_type": "code",
   "execution_count": null,
   "id": "7bca892b",
   "metadata": {},
   "outputs": [],
   "source": [
    "'''\n",
    " * Copyright (c) 2004 Radhamadhab Dalai\n",
    " *\n",
    " * Permission is hereby granted, free of charge, to any person obtaining a copy\n",
    " * of this software and associated documentation files (the \"Software\"), to deal\n",
    " * in the Software without restriction, including without limitation the rights\n",
    " * to use, copy, modify, merge, publish, distribute, sublicense, and/or sell\n",
    " * copies of the Software, and to permit persons to whom the Software is\n",
    " * furnished to do so, subject to the following conditions:\n",
    " *\n",
    " * The above copyright notice and this permission notice shall be included in\n",
    " * all copies or substantial portions of the Software.\n",
    " *\n",
    " * THE SOFTWARE IS PROVIDED \"AS IS\", WITHOUT WARRANTY OF ANY KIND, EXPRESS OR\n",
    " * IMPLIED, INCLUDING BUT NOT LIMITED TO THE WARRANTIES OF MERCHANTABILITY,\n",
    " * FITNESS FOR A PARTICULAR PURPOSE AND NONINFRINGEMENT. IN NO EVENT SHALL THE\n",
    " * AUTHORS OR COPYRIGHT HOLDERS BE LIABLE FOR ANY CLAIM, DAMAGES OR OTHER\n",
    " * LIABILITY, WHETHER IN AN ACTION OF CONTRACT, TORT OR OTHERWISE, ARISING FROM,\n",
    " * OUT OF OR IN CONNECTION WITH THE SOFTWARE OR THE USE OR OTHER DEALINGS IN\n",
    " * THE SOFTWARE.\n",
    "'''"
   ]
  },
  {
   "cell_type": "markdown",
   "id": "eac5c992",
   "metadata": {},
   "source": [
    "# Chapter 1 : 1.2 Tensors (The Krypton Knights)  \n",
    "\n",
    "What are “tensors?”\n",
    "Tensors are ​ closely-related to ​ arrays. If you interchange tensor/array/matrix when it comes to\n",
    "machine learning, people probably won’t give you too hard of a time. But there are subtle\n",
    "differences, and they are primarily either the context or attributes of the tensor object. To\n",
    "understand a tensor, let’s compare and describe some of the other data containers in Python\n",
    "(things that hold data). Let’s start with a list. A Python list is defined by comma-separated\n",
    "objects contained in brackets. So far, we’ve been using lists.\n",
    "This is an example of a simple list:"
   ]
  },
  {
   "cell_type": "code",
   "execution_count": null,
   "id": "b4b60f2e",
   "metadata": {},
   "outputs": [],
   "source": [
    "## What are Tensors?\n",
    "\n",
    "In machine learning, **tensors** are closely related to **arrays** and **matrices**. If you use the terms tensor, array, or matrix interchangeably, most people won’t mind, but there are subtle differences. The primary differences are in the **context** of their use and the **attributes** of the tensor object.\n",
    "\n",
    "To understand what a tensor is, let’s first review some of the more familiar data containers in Python, like lists.\n",
    "\n",
    "### Python List\n",
    "\n",
    "A **list** in Python is defined by comma-separated values (elements) enclosed in square brackets. A list can hold any type of object — numbers, strings, other lists, etc. For example:\n",
    "\n",
    "```python\n",
    "my_list = [1, 2, 3, 4, 5]\n"
   ]
  },
  {
   "cell_type": "code",
   "execution_count": 2,
   "id": "3460bb77",
   "metadata": {},
   "outputs": [],
   "source": [
    "# This is an example of a simple list:\n",
    "l  =  [  1  ,  5  ,  6  ,  2  ]\n",
    "# list of lists:\n",
    "lol  =  [[ 1  ,  5  ,  6  ,  2  ],\n",
    "[ 3 ,  2  ,  1  ,  3  ]]\n",
    "# list of lists of lists!\n",
    "lolol  =  [[[ 1  ,  5  ,  6  ,  2  ],\n",
    "[ 3  ,  2  ,  1 ,  3  ]],\n",
    "[[ 5  ,  2  ,  1  ,  2  ],\n",
    "[ 6  ,  4  ,  8  ,  4  ]],\n",
    "[[ 2  ,  8  ,  5  ,  3  ],\n",
    "[ 1  ,  1  ,  9  ,  4  ]]]"
   ]
  },
  {
   "cell_type": "markdown",
   "id": "ced0e3de",
   "metadata": {},
   "source": [
    "Everything shown so far could also be an array or an array representation of a tensor. A list is just a list, and it can do pretty much whatever it wants, including:\n",
    "#### another_list_of_lists  =  [[ 4  ,  2  ,  3  ],[ 5  ,  1  ]]\n",
    "The above list of lists cannot be an array because it is not  homologous . A list of lists is homologous if each list along a dimension is identically long, and this must be true for each dimension. In the case of the list shown above, it’s a 2-dimensional list. The first dimension’s length is the number of sublists in the total list (2). The second dimension is the length of each of those sublists (3, then 2). In the above example, when reading across the “row” dimension (also called the second dimension), the first list is 3 elements long, and the second list is 2 elements long — this is not homologous and, therefore, cannot be an array. While failing to be consistent in one dimension is enough to show that this example is not homologous, we could also read down the “column” dimension (the first dimension); the first two columns are 2 elements long while the\n",
    "third column only contains 1 element. Note that every dimension does not necessarily need to be the same length; it is perfectly acceptable to have an array with 4 rows and 3 columns (i.e., 4x3)."
   ]
  },
  {
   "cell_type": "markdown",
   "id": "0e6d1fdb",
   "metadata": {},
   "source": [
    "A matrix is pretty simple. It’s a rectangular array. It has columns and rows. It is two dimensional.\n",
    "So a matrix can be an array (a 2D array). Can all arrays be matrices? No. An array can be far\n",
    "more than just columns and rows, as it could have four dimensions, twenty dimensions, and so on."
   ]
  },
  {
   "cell_type": "code",
   "execution_count": 3,
   "id": "e0db2ed3",
   "metadata": {},
   "outputs": [],
   "source": [
    "list_matrix_array  =  [[ 4  ,  2  ],\n",
    "[ 5  ,  1  ],\n",
    "[ 8  ,  2  ]]"
   ]
  },
  {
   "cell_type": "code",
   "execution_count": null,
   "id": "38d541bc",
   "metadata": {},
   "outputs": [],
   "source": [
    "The above list could also be a valid matrix (because of its columns and rows), which\n",
    "automatically means it could also be an array. The “shape” of this array would be 3x2, or more\n",
    "formally described as a shape of  (3, 2)  as it has 3 rows and 2 columns.\n",
    "To denote a shape, we need to check every dimension. As we’ve already learned, a matrix is a\n",
    "2-dimensional array. The first dimension is what’s inside the most outer brackets, and if we look\n",
    "at the above matrix, we can see 3 lists there: \n",
    "    [ 4  ,  2  ]  , [ 5  ,  1  ]  , and [ 8  ,  2 ] ; thus, the size in this\n",
    "dimension is 3 and each of those lists has to be the same shape to form an array (and matrix in this\n",
    "case). The next dimension’s size is the number of elements inside this more inner pair of brackets,\n",
    "and we see that it’s 2 as all of them contain 2 elements."
   ]
  },
  {
   "cell_type": "code",
   "execution_count": null,
   "id": "8e3d2112",
   "metadata": {},
   "outputs": [],
   "source": [
    "#### With 3-dimensional arrays, like in  lolol  below, we’ll have a 3rd level of brackets:\n",
    "lolol  =  [[[ 1  ,  5  ,  6  ,  2  ],\n",
    "[ 3  ,  2  ,  1  ,  3  ]],\n",
    "[[ 5  ,  2  ,  1  ,  2  ],\n",
    "[ 6  ,  4  ,  8  ,  4  ]],\n",
    "[[ 2  ,  8  ,  5  ,  3  ],\n",
    "[ 1  ,  1  ,  9  ,  4  ]]]\n",
    "\n",
    "## The first level of this array contains 3 matrices:\n",
    "\n",
    "[[ 1  ,  5  ,  6  ,  2  ],\n",
    "[ 3  ,  2  ,  1  ,  3  ]]\n",
    "[[ 5  ,  2  ,  1  ,  2  ],\n",
    "[ 6  ,  4  ,  8  ,  4  ]]\n",
    "And\n",
    "[[ 2  ,  8  ,  5  ,  3  ],\n",
    "[ 1  ,  1  ,  9  ,  4  ]]\n"
   ]
  },
  {
   "cell_type": "markdown",
   "id": "f07121d8",
   "metadata": {},
   "source": [
    "That’s what’s inside the most outer brackets and the size of this dimension is then 3. If we look at\n",
    "the first matrix, we can see that it contains 2 lists  —   [  1  ,  5  ,  6  ,  2  ]  and  [  3  ,  2  ,  1  ,  3  ]  so the size of\n",
    "this dimension is 2  —  while each list of this inner matrix includes 4 elements. These 4 elements\n",
    "make up the 3rd and last dimension of this matrix since there are no more inner brackets.\n",
    "Therefore, the shape of this array is (3, 2, 4)  and it’s a 3-dimensional array, since the shape\n",
    "contains 3 dimensions\n",
    "\n",
    "![neuron](1.7.png)"
   ]
  },
  {
   "cell_type": "code",
   "execution_count": null,
   "id": "f5774754",
   "metadata": {},
   "outputs": [],
   "source": [
    "Finally, what’s a tensor? When it comes to the discussion of tensors versus arrays in the context\n",
    "of computer science, pages and pages of debate have ensued. This intense debate appears to be\n",
    "caused by the fact that people are arguing from entirely different places. There’s no question that\n",
    "a tensor is not just an array, but the real question is: “What is a tensor, to a computer scientist, in\n",
    "the context of deep learning?” We believe that we can solve the debate in one line:\n",
    "A tensor object is an object that can be represented as an array.\n",
    "What this means is, as programmers, we can (and will) treat tensors as arrays in the context of\n",
    "deep learning, and that’s really all the thought we have to put into it. Are all tensors ​ just ​ arrays?\n",
    "No, but they are represented as arrays in our code, so, to us, they’re only arrays, and this is why\n",
    "there’s so much argument and confusion.\n",
    "Now, what is an array? In this book, we define an array as an ordered homologous container for\n",
    "numbers, and mostly use this term when working with the NumPy package since that’s what the\n",
    "main data structure is called within it. A linear array, also called a 1-dimensional array, is the\n",
    "simplest example of an array, and in plain Python, this would be a list. Arrays can also consist\n",
    "of multi-dimensional data, and one of the best-known examples is what we call a matrix in\n",
    "mathematics, which we’ll represent as a 2-dimensional array. Each element of the array can be\n",
    "accessed using a tuple of indices as a key, which means that we can retrieve any array element.\n",
    "We need to learn one more notion ​ — ​ a vector. Put simply, a vector in math is what we call a list\n",
    "in Python or a 1-dimensional array in NumPy. Of course, lists and NumPy arrays do not have\n",
    "the same properties as a vector, but, just as we can write a matrix as a list of lists in Python, we\n",
    "can also write a vector as a list or an array! Additionally, we’ll look at the vector algebraically\n",
    "(mathematically) as a set of numbers in brackets. This is in contrast to the physics perspective,\n",
    "where the vector’s representation is usually seen as an arrow, characterized by a magnitude and\n",
    "a direction."
   ]
  },
  {
   "cell_type": "code",
   "execution_count": null,
   "id": "496b4998",
   "metadata": {},
   "outputs": [],
   "source": [
    "###Dot Product and Vector Addition\n",
    "\n",
    "Let’s now address vector multiplication, as that’s one of the most important operations we’ll\n",
    "perform on vectors. We can achieve the same result as in our pure Python implementation of\n",
    "multiplying each element in our inputs and weights vectors element-wise by using a  dot product​ ,\n",
    "which we’ll explain shortly. Traditionally, we use dot products for  vectors (yet another name for\n",
    "a container), and we can certainly refer to what we’re doing here as working with vectors just as\n",
    "we can call them “tensors.” Nevertheless, this seems to add to the mysticism of neural networks\n",
    "— like they’re these objects out in a complex multi-dimensional vector space that we’ll never\n",
    "understand. Keep thinking of vectors as arrays  —  a 1-dimensional array is just a vector (or a list\n",
    "in Python).\n",
    "Because of the sheer number of variables and interconnections made, we can model very complex\n",
    "and non-linear relationships with non-linear activation functions, and truly feel like wizards, but\n",
    "this might do more harm than good. Yes, we will be using the “dot product,” but we’re doing this\n",
    "because it results in a clean way to perform the necessary calculations. It’s nothing more in-depth\n",
    "than that — as you’ve already seen, we can do this math with far more rudimentary-sounding\n",
    "words. When multiplying vectors, you either perform a dot product or a cross product. A cross\n",
    "product results in a vector while a dot product results in a scalar (a single value/number).v"
   ]
  },
  {
   "cell_type": "markdown",
   "id": "fee43501",
   "metadata": {},
   "source": [
    "## What is the Dot Product of Two Vectors?\n",
    "\n",
    "In mathematics, the **dot product** of two vectors is defined as the sum of the products of corresponding elements from each vector. Both vectors must be of the same size, meaning they must contain the same number of elements. \n",
    "\n",
    "Mathematically, if you have two vectors:\n",
    "\n",
    "$$\n",
    "\\mathbf{a} = [a_1, a_2, a_3, \\dots, a_n]\n",
    "$$\n",
    "$$\n",
    "\\mathbf{b} = [b_1, b_2, b_3, \\dots, b_n]\n",
    "$$\n",
    "\n",
    "The **dot product** is calculated as:\n",
    "\n",
    "$$\n",
    "\\mathbf{a} \\cdot \\mathbf{b} = a_1 \\cdot b_1 + a_2 \\cdot b_2 + a_3 \\cdot b_3 + \\dots + a_n \\cdot b_n\n",
    "$$\n",
    "\n",
    "In other words, the dot product involves multiplying each element in vector **a** by the corresponding element in vector **b**, then summing up all these products.\n",
    "\n",
    "### Example of a Dot Product\n",
    "\n",
    "Let’s say we have two vectors:\n",
    "\n",
    "$$\n",
    "\\mathbf{a} = [1, 2, 3]\n",
    "$$\n",
    "$$\n",
    "\\mathbf{b} = [4, 5, 6]\n",
    "$$\n",
    "\n",
    "The dot product would be:\n",
    "\n",
    "$$\n",
    "\\mathbf{a} \\cdot \\mathbf{b} = (1 \\cdot 4) + (2 \\cdot 5) + (3 \\cdot 6) = 4 + 10 + 18 = 32\n",
    "$$\n",
    "\n",
    "So, the dot product of vectors **a** and **b** is **32**.\n",
    "\n",
    "### Use in Machine Learning\n",
    "\n",
    "The dot product is widely used in machine learning, especially in the context of neural networks. For example, in a fully connected neural network layer, the dot product is used to calculate the weighted sum of inputs, which is then passed through an activation function to produce the neuron’s output.\n"
   ]
  },
  {
   "cell_type": "markdown",
   "id": "0740d17f",
   "metadata": {},
   "source": [
    "![neon](1.8.png)"
   ]
  },
  {
   "cell_type": "code",
   "execution_count": null,
   "id": "722a52ef",
   "metadata": {},
   "outputs": [],
   "source": [
    "'''A dot product of two vectors is a sum of products of consecutive vector elements. Both vectors\n",
    "must be of the same size (have an equal number of elements).\n",
    "Let’s write out how a dot product is calculated in Python. For it, you have two vectors, which we\n",
    "can represent as lists in Python. We then multiply their elements from the same index values and\n",
    "then add all of the resulting products. Say we have two lists acting as our vectors:\n",
    "'''"
   ]
  },
  {
   "cell_type": "code",
   "execution_count": 7,
   "id": "1115925e",
   "metadata": {},
   "outputs": [
    {
     "name": "stdout",
     "output_type": "stream",
     "text": [
      "20\n"
     ]
    }
   ],
   "source": [
    "a = [ 1  ,  2  ,  3  ]\n",
    "b = [ 2  ,  3  ,  4  ]\n",
    "\n",
    "dot_product  =  a[ 0  ]  *  b[ 0  ]  +  a[ 1  ]  *  b[ 1  ]  +  a[ 2  ]  *  b[ 2  ]\n",
    "print (dot_product)"
   ]
  },
  {
   "cell_type": "markdown",
   "id": "3ca29f02",
   "metadata": {},
   "source": [
    "![neuron](1.9.png)"
   ]
  },
  {
   "cell_type": "code",
   "execution_count": null,
   "id": "17f26cfb",
   "metadata": {},
   "outputs": [],
   "source": [
    "Now, what if we called ​ a ​ “inputs” and ​ b “ ​ weights?” Suddenly, this dot product looks like a\n",
    "succinct way to perform the operations we need and have already performed in plain Python. We\n",
    "need to multiply our weights and inputs of the same index values and add the resulting values\n",
    "together. The dot product performs this exact type of operation; thus, it makes lots of sense to use\n",
    "here. Returning to the neural network code, let’s make use of this dot product. Plain Python does\n",
    "not contain methods or functions to perform such an operation, so we’ll use the NumPy package,\n",
    "which is capable of this, and many more operations that we’ll use in the future.\n",
    "We’ll also need to perform a vector addition operation in the not-too-distant future. Fortunately,\n",
    "NumPy lets us perform this in a natural way — using the plus sign with the variables containing\n",
    "vectors of the data. The addition of the two vectors is an operation performed element-wise,\n",
    "which means that both vectors have to be of the same size, and the result will become a vector of\n",
    "this"
   ]
  },
  {
   "cell_type": "markdown",
   "id": "091461f6",
   "metadata": {},
   "source": [
    "![neon](1.10.png)"
   ]
  },
  {
   "cell_type": "markdown",
   "id": "63620089",
   "metadata": {},
   "source": [
    "## Sum of Two Vectors\n",
    "\n",
    "The **sum of two vectors** is calculated by adding their corresponding elements. If you have two vectors of the same size:\n",
    "\n",
    "$$\n",
    "\\mathbf{a} = [a_1, a_2, a_3, \\dots, a_n]\n",
    "$$\n",
    "$$\n",
    "\\mathbf{b} = [b_1, b_2, b_3, \\dots, b_n]\n",
    "$$\n",
    "\n",
    "The sum of these vectors, denoted as \\( \\mathbf{c} \\), is computed as:\n",
    "\n",
    "$$\n",
    "\\mathbf{c} = \\mathbf{a} + \\mathbf{b}\n",
    "$$\n",
    "\n",
    "Where each element of \\( \\mathbf{c} \\) is given by:\n",
    "\n",
    "$$\n",
    "c_i = a_i + b_i \\quad \\text{for} \\; i = 1, 2, \\dots, n\n",
    "$$\n",
    "\n",
    "### Example\n",
    "\n",
    "Consider two vectors:\n",
    "\n",
    "$$\n",
    "\\mathbf{a} = [2, 4, 6]\n",
    "$$\n",
    "$$\n",
    "\\mathbf{b} = [1, 3, 5]\n",
    "$$\n",
    "\n",
    "Their sum is:\n",
    "\n",
    "$$\n",
    "\\mathbf{c} = \\mathbf{a} + \\mathbf{b} = [2+1, 4+3, 6+5] = [3, 7, 11]\n",
    "$$\n",
    "\n",
    "So, the resulting vector \\( \\mathbf{c} \\) is:\n",
    "\n",
    "$$\n",
    "\\mathbf{c} = [3, 7, 11]\n",
    "$$\n",
    "\n",
    "### Use in Applications\n",
    "\n",
    "Vector addition is fundamental in many areas such as physics and computer science. It is used to represent combined forces, additive color mixing, and in machine learning, operations on feature vectors or embeddings.\n"
   ]
  },
  {
   "cell_type": "code",
   "execution_count": null,
   "id": "ef2eb465",
   "metadata": {},
   "outputs": [],
   "source": []
  }
 ],
 "metadata": {
  "kernelspec": {
   "display_name": "Python 3 (ipykernel)",
   "language": "python",
   "name": "python3"
  },
  "language_info": {
   "codemirror_mode": {
    "name": "ipython",
    "version": 3
   },
   "file_extension": ".py",
   "mimetype": "text/x-python",
   "name": "python",
   "nbconvert_exporter": "python",
   "pygments_lexer": "ipython3",
   "version": "3.7.16"
  }
 },
 "nbformat": 4,
 "nbformat_minor": 5
}
