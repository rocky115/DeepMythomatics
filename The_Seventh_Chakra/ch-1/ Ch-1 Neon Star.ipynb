{
 "cells": [
  {
   "cell_type": "code",
   "execution_count": null,
   "id": "ca2507b3",
   "metadata": {},
   "outputs": [],
   "source": [
    "'''\n",
    " * Copyright (c) 2004 Radhamadhab Dalai\n",
    " *\n",
    " * Permission is hereby granted, free of charge, to any person obtaining a copy\n",
    " * of this software and associated documentation files (the \"Software\"), to deal\n",
    " * in the Software without restriction, including without limitation the rights\n",
    " * to use, copy, modify, merge, publish, distribute, sublicense, and/or sell\n",
    " * copies of the Software, and to permit persons to whom the Software is\n",
    " * furnished to do so, subject to the following conditions:\n",
    " *\n",
    " * The above copyright notice and this permission notice shall be included in\n",
    " * all copies or substantial portions of the Software.\n",
    " *\n",
    " * THE SOFTWARE IS PROVIDED \"AS IS\", WITHOUT WARRANTY OF ANY KIND, EXPRESS OR\n",
    " * IMPLIED, INCLUDING BUT NOT LIMITED TO THE WARRANTIES OF MERCHANTABILITY,\n",
    " * FITNESS FOR A PARTICULAR PURPOSE AND NONINFRINGEMENT. IN NO EVENT SHALL THE\n",
    " * AUTHORS OR COPYRIGHT HOLDERS BE LIABLE FOR ANY CLAIM, DAMAGES OR OTHER\n",
    " * LIABILITY, WHETHER IN AN ACTION OF CONTRACT, TORT OR OTHERWISE, ARISING FROM,\n",
    " * OUT OF OR IN CONNECTION WITH THE SOFTWARE OR THE USE OR OTHER DEALINGS IN\n",
    " * THE SOFTWARE.\n",
    "'''"
   ]
  },
  {
   "cell_type": "markdown",
   "id": "fa1e471a",
   "metadata": {},
   "source": [
    "# Chapter 1 :  The Ultron Neon  \n",
    "\n",
    "Let’s say we have a single neuron, and there are three inputs to this neuron. As in most cases, when you initialize parameters in neural networks, our network will have weights initialized randomly, and biases set as zero to start. Why we do this will become apparent later on. The input will be either actual training data or the outputs of neurons from the previous layer in the neural network. We’re just going to make up values to start with as input for now:"
   ]
  },
  {
   "cell_type": "code",
   "execution_count": 1,
   "id": "e5b362b1",
   "metadata": {},
   "outputs": [
    {
     "name": "stdout",
     "output_type": "stream",
     "text": [
      "[4.8, 1.21, 2.385]\n"
     ]
    }
   ],
   "source": [
    "inputs = [ 1, 2, 3, 2.5 ]\n",
    "weights = [[ 0.2, 0.8,- 0.5,1],[ 0.5, -0.91, 0.26,-0.5],[-0.26,-0.27,0.17,0.87]]\n",
    "biases = [ 2 , 3 , 0.5]\n",
    "\n",
    "layer_outputs = []\n",
    "\n",
    "for neuron_weight, n_biases in zip(weights, biases):\n",
    "    neuron_output=0\n",
    "    for n_input, n_weight in zip(inputs, neuron_weight):\n",
    "        neuron_output += n_input*n_weight\n",
    "    #add bias    \n",
    "    neuron_output += n_biases\n",
    "    #call empty list and add those\n",
    "    layer_outputs.append(neuron_output)\n",
    "    \n",
    "print(layer_outputs)"
   ]
  },
  {
   "cell_type": "markdown",
   "id": "067391f2",
   "metadata": {},
   "source": [
    "### A Single Neuron\n",
    "\n",
    "Let’s say we have a single neuron, and there are three inputs to this neuron. As is typical when initializing parameters in neural networks, the weights are initialized randomly and biases are set to zero at the start. The input can be either actual training data or the outputs from neurons of the previous layer in the neural network.\n",
    "\n",
    "For now, let's represent the inputs to the neuron as:\n",
    "\n",
    "$$\n",
    "x_1, x_2, x_3\n",
    "$$\n",
    "\n",
    "The corresponding weights for each input are:\n",
    "\n",
    "$$\n",
    "w_1, w_2, w_3\n",
    "$$\n",
    "\n",
    "The bias term is:\n",
    "\n",
    "$$\n",
    "b\n",
    "$$\n",
    "\n",
    "The output of the neuron, \\( y \\), can be computed as the weighted sum of the inputs plus the bias:\n",
    "\n",
    "$$\n",
    "y = w_1 \\cdot x_1 + w_2 \\cdot x_2 + w_3 \\cdot x_3 + b\n",
    "$$\n",
    "\n",
    "Here, the weights and the bias are initialized randomly, and the bias \\( b \\) is set to 0 initially. The inputs are made up values for now, but in practice, they could be actual training data or outputs from the previous layer.\n"
   ]
  },
  {
   "cell_type": "markdown",
   "id": "11638f91",
   "metadata": {},
   "source": [
    "### Neuron with Three Inputs and Weights\n",
    "\n",
    "Each input also needs a weight associated with it. Inputs are the data we pass into the model to get desired outputs, while weights are the parameters that we’ll tune during training. Weights and biases are the values that change inside the model during training. These are the parameters that get “trained,” allowing the model to make predictions.\n",
    "\n",
    "Let's initialize the following inputs and weights for the neuron:\n",
    "\n",
    "$$\n",
    "\\text{inputs} = [1, 2, 3]\n",
    "$$\n",
    "\n",
    "The weights associated with these inputs are:\n",
    "\n",
    "$$\n",
    "\\text{weights} = [0.2, 0.8, -0.5]\n",
    "$$\n",
    "\n",
    "Next, we need a bias. Since we're modeling a single neuron with three inputs, there will be just one bias value. We’ll randomly choose a bias value of:\n",
    "\n",
    "$$\n",
    "\\text{bias} = 2\n",
    "$$\n",
    "\n",
    "#### Neuron Output Calculation\n",
    "\n",
    "This neuron sums each input multiplied by its corresponding weight and then adds the bias. The output \\( y \\) of the neuron is calculated as:\n",
    "\n",
    "$$\n",
    "y = (\\text{inputs}[0] \\cdot \\text{weights}[0]) + (\\text{inputs}[1] \\cdot \\text{weights}[1]) + (\\text{inputs}[2] \\cdot \\text{weights}[2]) + \\text{bias}\n",
    "$$\n",
    "\n",
    "Substituting the values:\n",
    "\n",
    "$$\n",
    "y = (1 \\cdot 0.2) + (2 \\cdot 0.8) + (3 \\cdot -0.5) + 2\n",
    "$$\n",
    "\n",
    "This simplifies to:\n",
    "\n",
    "$$\n",
    "y = 0.2 + 1.6 - 1.5 + 2 = 2.3\n",
    "$$\n",
    "\n",
    "Therefore, the output of the neuron is:\n",
    "\n",
    "$$\n",
    "y = 2.3\n",
    "$$\n"
   ]
  },
  {
   "cell_type": "code",
   "execution_count": 5,
   "id": "ff86ef41",
   "metadata": {},
   "outputs": [
    {
     "name": "stdout",
     "output_type": "stream",
     "text": [
      "2.3\n"
     ]
    }
   ],
   "source": [
    "inputs = [1, 2, 3]\n",
    "inputs = [1, 2, 3]\n",
    "weights = [0.2, 0.8, -0.5]\n",
    "bias = 2\n",
    "output = (inputs[0] * weights[0] + inputs[1] * weights[1] \n",
    "+ inputs[2]*weights[2] + bias)\n",
    "print(output)\n"
   ]
  },
  {
   "cell_type": "markdown",
   "id": "67c2d816",
   "metadata": {},
   "source": [
    "![Neron](1.11.png)"
   ]
  },
  {
   "cell_type": "code",
   "execution_count": null,
   "id": "ee3aeb1b",
   "metadata": {},
   "outputs": [],
   "source": []
  }
 ],
 "metadata": {
  "kernelspec": {
   "display_name": "Python 3 (ipykernel)",
   "language": "python",
   "name": "python3"
  },
  "language_info": {
   "codemirror_mode": {
    "name": "ipython",
    "version": 3
   },
   "file_extension": ".py",
   "mimetype": "text/x-python",
   "name": "python",
   "nbconvert_exporter": "python",
   "pygments_lexer": "ipython3",
   "version": "3.7.16"
  }
 },
 "nbformat": 4,
 "nbformat_minor": 5
}
