{
 "cells": [
  {
   "cell_type": "code",
   "execution_count": null,
   "id": "7bca892b",
   "metadata": {},
   "outputs": [],
   "source": [
    "'''\n",
    " * Copyright (c) 2004 Radhamadhab Dalai\n",
    " *\n",
    " * Permission is hereby granted, free of charge, to any person obtaining a copy\n",
    " * of this software and associated documentation files (the \"Software\"), to deal\n",
    " * in the Software without restriction, including without limitation the rights\n",
    " * to use, copy, modify, merge, publish, distribute, sublicense, and/or sell\n",
    " * copies of the Software, and to permit persons to whom the Software is\n",
    " * furnished to do so, subject to the following conditions:\n",
    " *\n",
    " * The above copyright notice and this permission notice shall be included in\n",
    " * all copies or substantial portions of the Software.\n",
    " *\n",
    " * THE SOFTWARE IS PROVIDED \"AS IS\", WITHOUT WARRANTY OF ANY KIND, EXPRESS OR\n",
    " * IMPLIED, INCLUDING BUT NOT LIMITED TO THE WARRANTIES OF MERCHANTABILITY,\n",
    " * FITNESS FOR A PARTICULAR PURPOSE AND NONINFRINGEMENT. IN NO EVENT SHALL THE\n",
    " * AUTHORS OR COPYRIGHT HOLDERS BE LIABLE FOR ANY CLAIM, DAMAGES OR OTHER\n",
    " * LIABILITY, WHETHER IN AN ACTION OF CONTRACT, TORT OR OTHERWISE, ARISING FROM,\n",
    " * OUT OF OR IN CONNECTION WITH THE SOFTWARE OR THE USE OR OTHER DEALINGS IN\n",
    " * THE SOFTWARE.\n",
    "'''"
   ]
  },
  {
   "cell_type": "markdown",
   "id": "eac5c992",
   "metadata": {},
   "source": [
    "# Chapter 1 : 1.2 Tensors (The Krypton Knights)  \n",
    "\n",
    "What are “tensors?”\n",
    "Tensors are ​ closely-related to ​ arrays. If you interchange tensor/array/matrix when it comes to\n",
    "machine learning, people probably won’t give you too hard of a time. But there are subtle\n",
    "differences, and they are primarily either the context or attributes of the tensor object. To\n",
    "understand a tensor, let’s compare and describe some of the other data containers in Python\n",
    "(things that hold data). Let’s start with a list. A Python list is defined by comma-separated\n",
    "objects contained in brackets. So far, we’ve been using lists.\n",
    "This is an example of a simple list:"
   ]
  },
  {
   "cell_type": "code",
   "execution_count": null,
   "id": "b4b60f2e",
   "metadata": {},
   "outputs": [],
   "source": [
    "## What are Tensors?\n",
    "\n",
    "In machine learning, **tensors** are closely related to **arrays** and **matrices**. If you use the terms tensor, array, or matrix interchangeably, most people won’t mind, but there are subtle differences. The primary differences are in the **context** of their use and the **attributes** of the tensor object.\n",
    "\n",
    "To understand what a tensor is, let’s first review some of the more familiar data containers in Python, like lists.\n",
    "\n",
    "### Python List\n",
    "\n",
    "A **list** in Python is defined by comma-separated values (elements) enclosed in square brackets. A list can hold any type of object — numbers, strings, other lists, etc. For example:\n",
    "\n",
    "```python\n",
    "my_list = [1, 2, 3, 4, 5]\n"
   ]
  },
  {
   "cell_type": "code",
   "execution_count": 2,
   "id": "3460bb77",
   "metadata": {},
   "outputs": [],
   "source": [
    "# This is an example of a simple list:\n",
    "l  =  [  1  ,  5  ,  6  ,  2  ]\n",
    "# list of lists:\n",
    "lol  =  [[ 1  ,  5  ,  6  ,  2  ],\n",
    "[ 3 ,  2  ,  1  ,  3  ]]\n",
    "# list of lists of lists!\n",
    "lolol  =  [[[ 1  ,  5  ,  6  ,  2  ],\n",
    "[ 3  ,  2  ,  1 ,  3  ]],\n",
    "[[ 5  ,  2  ,  1  ,  2  ],\n",
    "[ 6  ,  4  ,  8  ,  4  ]],\n",
    "[[ 2  ,  8  ,  5  ,  3  ],\n",
    "[ 1  ,  1  ,  9  ,  4  ]]]"
   ]
  },
  {
   "cell_type": "markdown",
   "id": "ced0e3de",
   "metadata": {},
   "source": [
    "Everything shown so far could also be an array or an array representation of a tensor. A list is just a list, and it can do pretty much whatever it wants, including:\n",
    "#### another_list_of_lists  =  [[ 4  ,  2  ,  3  ],[ 5  ,  1  ]]\n",
    "The above list of lists cannot be an array because it is not  homologous . A list of lists is homologous if each list along a dimension is identically long, and this must be true for each dimension. In the case of the list shown above, it’s a 2-dimensional list. The first dimension’s length is the number of sublists in the total list (2). The second dimension is the length of each of those sublists (3, then 2). In the above example, when reading across the “row” dimension (also called the second dimension), the first list is 3 elements long, and the second list is 2 elements long — this is not homologous and, therefore, cannot be an array. While failing to be consistent in one dimension is enough to show that this example is not homologous, we could also read down the “column” dimension (the first dimension); the first two columns are 2 elements long while the\n",
    "third column only contains 1 element. Note that every dimension does not necessarily need to be the same length; it is perfectly acceptable to have an array with 4 rows and 3 columns (i.e., 4x3)."
   ]
  },
  {
   "cell_type": "markdown",
   "id": "0e6d1fdb",
   "metadata": {},
   "source": [
    "A matrix is pretty simple. It’s a rectangular array. It has columns and rows. It is two dimensional.\n",
    "So a matrix can be an array (a 2D array). Can all arrays be matrices? No. An array can be far\n",
    "more than just columns and rows, as it could have four dimensions, twenty dimensions, and so on."
   ]
  },
  {
   "cell_type": "code",
   "execution_count": 3,
   "id": "e0db2ed3",
   "metadata": {},
   "outputs": [],
   "source": [
    "list_matrix_array  =  [[ 4  ,  2  ],\n",
    "[ 5  ,  1  ],\n",
    "[ 8  ,  2  ]]"
   ]
  },
  {
   "cell_type": "code",
   "execution_count": null,
   "id": "38d541bc",
   "metadata": {},
   "outputs": [],
   "source": [
    "The above list could also be a valid matrix (because of its columns and rows), which\n",
    "automatically means it could also be an array. The “shape” of this array would be 3x2, or more\n",
    "formally described as a shape of  (3, 2)  as it has 3 rows and 2 columns.\n",
    "To denote a shape, we need to check every dimension. As we’ve already learned, a matrix is a\n",
    "2-dimensional array. The first dimension is what’s inside the most outer brackets, and if we look\n",
    "at the above matrix, we can see 3 lists there: \n",
    "    [ 4  ,  2  ]  , [ 5  ,  1  ]  , and [ 8  ,  2 ] ; thus, the size in this\n",
    "dimension is 3 and each of those lists has to be the same shape to form an array (and matrix in this\n",
    "case). The next dimension’s size is the number of elements inside this more inner pair of brackets,\n",
    "and we see that it’s 2 as all of them contain 2 elements."
   ]
  },
  {
   "cell_type": "code",
   "execution_count": null,
   "id": "8e3d2112",
   "metadata": {},
   "outputs": [],
   "source": [
    "#### With 3-dimensional arrays, like in  lolol  below, we’ll have a 3rd level of brackets:\n",
    "lolol  =  [[[ 1  ,  5  ,  6  ,  2  ],\n",
    "[ 3  ,  2  ,  1  ,  3  ]],\n",
    "[[ 5  ,  2  ,  1  ,  2  ],\n",
    "[ 6  ,  4  ,  8  ,  4  ]],\n",
    "[[ 2  ,  8  ,  5  ,  3  ],\n",
    "[ 1  ,  1  ,  9  ,  4  ]]]\n",
    "\n",
    "## The first level of this array contains 3 matrices:\n",
    "\n",
    "[[ 1  ,  5  ,  6  ,  2  ],\n",
    "[ 3  ,  2  ,  1  ,  3  ]]\n",
    "[[ 5  ,  2  ,  1  ,  2  ],\n",
    "[ 6  ,  4  ,  8  ,  4  ]]\n",
    "And\n",
    "[[ 2  ,  8  ,  5  ,  3  ],\n",
    "[ 1  ,  1  ,  9  ,  4  ]]\n"
   ]
  },
  {
   "cell_type": "markdown",
   "id": "f07121d8",
   "metadata": {},
   "source": [
    "That’s what’s inside the most outer brackets and the size of this dimension is then 3. If we look at\n",
    "the first matrix, we can see that it contains 2 lists  —   [  1  ,  5  ,  6  ,  2  ]  and  [  3  ,  2  ,  1  ,  3  ]  so the size of\n",
    "this dimension is 2  —  while each list of this inner matrix includes 4 elements. These 4 elements\n",
    "make up the 3rd and last dimension of this matrix since there are no more inner brackets.\n",
    "Therefore, the shape of this array is (3, 2, 4)  and it’s a 3-dimensional array, since the shape\n",
    "contains 3 dimensions\n",
    "\n",
    "![neuron](img/dl1.7.png)"
   ]
  },
  {
   "cell_type": "markdown",
   "id": "94469c37",
   "metadata": {},
   "source": [
    "Finally, what’s a tensor? When it comes to the discussion of tensors versus arrays in the context\n",
    "of computer science, pages and pages of debate have ensued. This intense debate appears to be\n",
    "caused by the fact that people are arguing from entirely different places. There’s no question that\n",
    "a tensor is not just an array, but the real question is: “What is a tensor, to a computer scientist, in\n",
    "the context of deep learning?” We believe that we can solve the debate in one line:\n",
    "A tensor object is an object that can be represented as an array.\n",
    "What this means is, as programmers, we can (and will) treat tensors as arrays in the context of\n",
    "deep learning, and that’s really all the thought we have to put into it. Are all tensors ​ just ​ arrays?\n",
    "No, but they are represented as arrays in our code, so, to us, they’re only arrays, and this is why\n",
    "there’s so much argument and confusion.\n",
    "Now, what is an array? In this book, we define an array as an ordered homologous container for\n",
    "numbers, and mostly use this term when working with the NumPy package since that’s what the\n",
    "main data structure is called within it. A linear array, also called a 1-dimensional array, is the\n",
    "simplest example of an array, and in plain Python, this would be a list. Arrays can also consist\n",
    "of multi-dimensional data, and one of the best-known examples is what we call a matrix in\n",
    "mathematics, which we’ll represent as a 2-dimensional array. Each element of the array can be\n",
    "accessed using a tuple of indices as a key, which means that we can retrieve any array element.\n",
    "We need to learn one more notion ​ — ​ a vector. Put simply, a vector in math is what we call a list\n",
    "in Python or a 1-dimensional array in NumPy. Of course, lists and NumPy arrays do not have\n",
    "the same properties as a vector, but, just as we can write a matrix as a list of lists in Python, we\n",
    "can also write a vector as a list or an array! Additionally, we’ll look at the vector algebraically\n",
    "(mathematically) as a set of numbers in brackets. This is in contrast to the physics perspective,\n",
    "where the vector’s representation is usually seen as an arrow, characterized by a magnitude and\n",
    "a direction."
   ]
  },
  {
   "cell_type": "markdown",
   "id": "5f79ced9",
   "metadata": {},
   "source": [
    "###Dot Product and Vector Addition\n",
    "\n",
    "Let’s now address vector multiplication, as that’s one of the most important operations we’ll\n",
    "perform on vectors. We can achieve the same result as in our pure Python implementation of\n",
    "multiplying each element in our inputs and weights vectors element-wise by using a  dot product​ ,\n",
    "which we’ll explain shortly. Traditionally, we use dot products for  vectors (yet another name for\n",
    "a container), and we can certainly refer to what we’re doing here as working with vectors just as\n",
    "we can call them “tensors.” Nevertheless, this seems to add to the mysticism of neural networks\n",
    "— like they’re these objects out in a complex multi-dimensional vector space that we’ll never\n",
    "understand. Keep thinking of vectors as arrays  —  a 1-dimensional array is just a vector (or a list\n",
    "in Python).\n",
    "Because of the sheer number of variables and interconnections made, we can model very complex\n",
    "and non-linear relationships with non-linear activation functions, and truly feel like wizards, but\n",
    "this might do more harm than good. Yes, we will be using the “dot product,” but we’re doing this\n",
    "because it results in a clean way to perform the necessary calculations. It’s nothing more in-depth\n",
    "than that — as you’ve already seen, we can do this math with far more rudimentary-sounding\n",
    "words. When multiplying vectors, you either perform a dot product or a cross product. A cross\n",
    "product results in a vector while a dot product results in a scalar (a single value/number).v"
   ]
  },
  {
   "cell_type": "markdown",
   "id": "fee43501",
   "metadata": {},
   "source": [
    "## What is the Dot Product of Two Vectors?\n",
    "\n",
    "In mathematics, the **dot product** of two vectors is defined as the sum of the products of corresponding elements from each vector. Both vectors must be of the same size, meaning they must contain the same number of elements. \n",
    "\n",
    "Mathematically, if you have two vectors:\n",
    "\n",
    "$$\n",
    "\\mathbf{a} = [a_1, a_2, a_3, \\dots, a_n]\n",
    "$$\n",
    "$$\n",
    "\\mathbf{b} = [b_1, b_2, b_3, \\dots, b_n]\n",
    "$$\n",
    "\n",
    "The **dot product** is calculated as:\n",
    "\n",
    "$$\n",
    "\\mathbf{a} \\cdot \\mathbf{b} = a_1 \\cdot b_1 + a_2 \\cdot b_2 + a_3 \\cdot b_3 + \\dots + a_n \\cdot b_n\n",
    "$$\n",
    "\n",
    "In other words, the dot product involves multiplying each element in vector **a** by the corresponding element in vector **b**, then summing up all these products.\n",
    "\n",
    "### Example of a Dot Product\n",
    "\n",
    "Let’s say we have two vectors:\n",
    "\n",
    "$$\n",
    "\\mathbf{a} = [1, 2, 3]\n",
    "$$\n",
    "$$\n",
    "\\mathbf{b} = [4, 5, 6]\n",
    "$$\n",
    "\n",
    "The dot product would be:\n",
    "\n",
    "$$\n",
    "\\mathbf{a} \\cdot \\mathbf{b} = (1 \\cdot 4) + (2 \\cdot 5) + (3 \\cdot 6) = 4 + 10 + 18 = 32\n",
    "$$\n",
    "\n",
    "So, the dot product of vectors **a** and **b** is **32**.\n",
    "\n",
    "### Use in Machine Learning\n",
    "\n",
    "The dot product is widely used in machine learning, especially in the context of neural networks. For example, in a fully connected neural network layer, the dot product is used to calculate the weighted sum of inputs, which is then passed through an activation function to produce the neuron’s output.\n"
   ]
  },
  {
   "cell_type": "markdown",
   "id": "0740d17f",
   "metadata": {},
   "source": [
    "![neon](img/dl1.8.png)"
   ]
  },
  {
   "cell_type": "code",
   "execution_count": null,
   "id": "722a52ef",
   "metadata": {},
   "outputs": [],
   "source": [
    "'''A dot product of two vectors is a sum of products of consecutive vector elements. Both vectors\n",
    "must be of the same size (have an equal number of elements).\n",
    "Let’s write out how a dot product is calculated in Python. For it, you have two vectors, which we\n",
    "can represent as lists in Python. We then multiply their elements from the same index values and\n",
    "then add all of the resulting products. Say we have two lists acting as our vectors:\n",
    "'''"
   ]
  },
  {
   "cell_type": "code",
   "execution_count": 7,
   "id": "1115925e",
   "metadata": {},
   "outputs": [
    {
     "name": "stdout",
     "output_type": "stream",
     "text": [
      "20\n"
     ]
    }
   ],
   "source": [
    "a = [ 1  ,  2  ,  3  ]\n",
    "b = [ 2  ,  3  ,  4  ]\n",
    "\n",
    "dot_product  =  a[ 0  ]  *  b[ 0  ]  +  a[ 1  ]  *  b[ 1  ]  +  a[ 2  ]  *  b[ 2  ]\n",
    "print (dot_product)"
   ]
  },
  {
   "cell_type": "markdown",
   "id": "3ca29f02",
   "metadata": {},
   "source": [
    "![neuron](img/dl1.9.png)"
   ]
  },
  {
   "cell_type": "code",
   "execution_count": null,
   "id": "17f26cfb",
   "metadata": {},
   "outputs": [],
   "source": [
    "Now, what if we called ​ a ​ “inputs” and ​ b “ ​ weights?” Suddenly, this dot product looks like a\n",
    "succinct way to perform the operations we need and have already performed in plain Python. We\n",
    "need to multiply our weights and inputs of the same index values and add the resulting values\n",
    "together. The dot product performs this exact type of operation; thus, it makes lots of sense to use\n",
    "here. Returning to the neural network code, let’s make use of this dot product. Plain Python does\n",
    "not contain methods or functions to perform such an operation, so we’ll use the NumPy package,\n",
    "which is capable of this, and many more operations that we’ll use in the future.\n",
    "We’ll also need to perform a vector addition operation in the not-too-distant future. Fortunately,\n",
    "NumPy lets us perform this in a natural way — using the plus sign with the variables containing\n",
    "vectors of the data. The addition of the two vectors is an operation performed element-wise,\n",
    "which means that both vectors have to be of the same size, and the result will become a vector of\n",
    "this"
   ]
  },
  {
   "cell_type": "markdown",
   "id": "091461f6",
   "metadata": {},
   "source": [
    "![neon](img/dl1.10.png)"
   ]
  },
  {
   "cell_type": "markdown",
   "id": "63620089",
   "metadata": {},
   "source": [
    "## Sum of Two Vectors\n",
    "\n",
    "The **sum of two vectors** is calculated by adding their corresponding elements. If you have two vectors of the same size:\n",
    "\n",
    "$$\n",
    "\\mathbf{a} = [a_1, a_2, a_3, \\dots, a_n]\n",
    "$$\n",
    "$$\n",
    "\\mathbf{b} = [b_1, b_2, b_3, \\dots, b_n]\n",
    "$$\n",
    "\n",
    "The sum of these vectors, denoted as \\( \\mathbf{c} \\), is computed as:\n",
    "\n",
    "$$\n",
    "\\mathbf{c} = \\mathbf{a} + \\mathbf{b}\n",
    "$$\n",
    "\n",
    "Where each element of \\( \\mathbf{c} \\) is given by:\n",
    "\n",
    "$$\n",
    "c_i = a_i + b_i \\quad \\text{for} \\; i = 1, 2, \\dots, n\n",
    "$$\n",
    "\n",
    "### Example\n",
    "\n",
    "Consider two vectors:\n",
    "\n",
    "$$\n",
    "\\mathbf{a} = [2, 4, 6]\n",
    "$$\n",
    "$$\n",
    "\\mathbf{b} = [1, 3, 5]\n",
    "$$\n",
    "\n",
    "Their sum is:\n",
    "\n",
    "$$\n",
    "\\mathbf{c} = \\mathbf{a} + \\mathbf{b} = [2+1, 4+3, 6+5] = [3, 7, 11]\n",
    "$$\n",
    "\n",
    "So, the resulting vector \\( \\mathbf{c} \\) is:\n",
    "\n",
    "$$\n",
    "\\mathbf{c} = [3, 7, 11]\n",
    "$$\n",
    "\n",
    "### Use in Applications\n",
    "\n",
    "Vector addition is fundamental in many areas such as physics and computer science. It is used to represent combined forces, additive color mixing, and in machine learning, operations on feature vectors or embeddings.\n"
   ]
  },
  {
   "cell_type": "markdown",
   "id": "fef16998",
   "metadata": {},
   "source": [
    "# A Layer of Neurons with NumPy\n",
    "Let us back to the point where we’d like to calculate the output of a layer of 3 neurons, which means the weights will be a matrix or list of weight vectors. In plain Python, we wrote this as a list of lists. With NumPy, this will be a 2-dimensional array, which we’ll call a matrix. Previously with the 3-neuron example, we performed a multiplication of those weights with a list containing inputs, which resulted in a list of output values ​—​ one per neuron. We also described the dot product of two vectors, but the weights are now a matrix, and we need to perform a dot product of them and the input vector. NumPy makes this very easy for us ​— treating this matrix as a list of vectors and performing the dot product one by one with the vector of inputs, returning a list of dot products.\n",
    "The dot product’s result, in our case, is a vector (or a list) of sums of the weight and input products for each of the neurons. From here, we still need to add corresponding biases to them. The biases can be easily added to the result of the dot product operation as they are a vector of the same size. We can also use the plain Python list directly here, as NumPy will convert it to an array internally.\n",
    "Previously, we had calculated outputs of each neuron by performing a dot product and adding a bias, one by one. Now we have changed the order of those operations ​—​ we’re performing dot product first as one operation on all neurons and inputs, and then we are adding a bias in the next operation. When we add two vectors using NumPy, each i-th element is added together, resulting in a new vector of the same size. This is both a simplification and an optimization, giving us simpler and faster code.\n"
   ]
  },
  {
   "cell_type": "code",
   "execution_count": 1,
   "id": "579ee78f",
   "metadata": {},
   "outputs": [
    {
     "name": "stdout",
     "output_type": "stream",
     "text": [
      "[4.8   1.21  2.385]\n"
     ]
    }
   ],
   "source": [
    "import numpy as np\n",
    "inputs = [1.0, 2.0, 3.0, 2.5]\n",
    "weights = [[0.2, 0.8, -0.5, 1],\n",
    "[0.5, -0.91, 0.26, -0.5],\n",
    "[-0.26, -0.27, 0.17, 0.87]]\n",
    "biases = [2.0, 3.0, 0.5]\n",
    "layer_outputs = np.dot(weights, inputs) + biases\n",
    "print(layer_outputs)\n",
    "\n"
   ]
  },
  {
   "cell_type": "markdown",
   "id": "8aae4577",
   "metadata": {},
   "source": [
    "![neon](img/dl1.12.png)\n",
    "![neon](img/dl1.13.png)"
   ]
  },
  {
   "cell_type": "markdown",
   "id": "1b6ddb12",
   "metadata": {},
   "source": [
    "# A Layer of Neurons with NumPy\n",
    "## Calculating the Output of a Layer of Neurons\n",
    "\n",
    "To calculate the output of a layer with multiple neurons, we need to handle weights as a matrix (or 2-dimensional array). In plain Python, we represented this as a list of lists. With NumPy, this is more efficiently represented as a 2-dimensional array, also known as a matrix.\n",
    "\n",
    "### Dot Product with NumPy\n",
    "\n",
    "Previously, we calculated the dot product of weights and inputs for each neuron individually. With NumPy, this operation is simplified. When we have a weight matrix and an input vector, NumPy performs the dot product operation efficiently:\n",
    "\n",
    "$$\n",
    "\\mathbf{W} \\cdot \\mathbf{x}\n",
    "$$\n",
    "\n",
    "where:\n",
    "\n",
    "- \\( \\mathbf{W} \\) is a matrix of weights.\n",
    "- \\( \\mathbf{x} \\) is the input vector.\n",
    "\n",
    "The result of this dot product is a vector (or list) of sums of the products of weights and inputs for each neuron. \n",
    "\n",
    "### Adding Biases\n",
    "\n",
    "After computing the dot product, we add the biases to the resulting vector. Biases can be represented as a vector of the same size as the output of the dot product operation:\n",
    "\n",
    "$$\n",
    "\\mathbf{y} = (\\mathbf{W} \\cdot \\mathbf{x}) + \\mathbf{b}\n",
    "$$\n",
    "\n",
    "where:\n",
    "\n",
    "- $ \\mathbf{b} $ is the bias vector.\n",
    "- $ \\mathbf{y} $ is the final output vector.\n",
    "\n",
    "In NumPy, adding two vectors is straightforward:\n",
    "\n",
    "$$\n",
    "\\mathbf{y}_i = (\\mathbf{W} \\cdot \\mathbf{x})_i + b_i\n",
    "$$\n",
    "\n",
    "### Example\n",
    "\n",
    "Suppose we have the following:\n",
    "\n",
    "- Weight matrix \\( \\mathbf{W} \\):\n",
    "  $$\n",
    "  \\mathbf{W} = \\begin{bmatrix}\n",
    "  w_{11} & w_{12} & w_{13} \\\\\n",
    "  w_{21} & w_{22} & w_{23} \\\\\n",
    "  w_{31} & w_{32} & w_{33}\n",
    "  \\end{bmatrix}\n",
    "  $$\n",
    "\n",
    "- Input vector \\( \\mathbf{x} \\):\n",
    "  $$\n",
    "  \\mathbf{x} = \\begin{bmatrix}\n",
    "  x_1 \\\\\n",
    "  x_2 \\\\\n",
    "  x_3\n",
    "  \\end{bmatrix}\n",
    "  $$\n",
    "\n",
    "- Bias vector \\( \\mathbf{b} \\):\n",
    "  $$\n",
    "  \\mathbf{b} = \\begin{bmatrix}\n",
    "  b_1 \\\\\n",
    "  b_2 \\\\\n",
    "  b_3\n",
    "  \\end{bmatrix}\n",
    "  $$\n",
    "\n",
    "The output vector \\( \\mathbf{y} \\) is calculated as:\n",
    "\n",
    "$$\n",
    "\\mathbf{y} = (\\mathbf{W} \\cdot \\mathbf{x}) + \\mathbf{b}\n",
    "$$\n",
    "\n",
    "This approach simplifies and speeds up the calculations by leveraging NumPy's optimized operations.\n",
    "\n",
    "### Summary\n",
    "\n",
    "By using NumPy, we perform the dot product operation across all neurons in one go and then add biases efficiently. This method is both a simplification and an optimization, resulting in cleaner and faster code.\n",
    "\n"
   ]
  },
  {
   "cell_type": "code",
   "execution_count": 3,
   "id": "e2586afc",
   "metadata": {},
   "outputs": [
    {
     "name": "stdout",
     "output_type": "stream",
     "text": [
      "[4.8   1.21  2.385]\n"
     ]
    }
   ],
   "source": [
    "import numpy as np\n",
    "\n",
    "# Define inputs, weights, and biases\n",
    "inputs = [1.0, 2.0, 3.0, 2.5]\n",
    "weights = [\n",
    "    [0.2, 0.8, -0.5, 1.0],\n",
    "    [0.5, -0.91, 0.26, -0.5],\n",
    "    [-0.26, -0.27, 0.17, 0.87]\n",
    "]\n",
    "biases = [2.0, 3.0, 0.5]\n",
    "\n",
    "# Calculate the output of the layer\n",
    "layer_outputs = np.dot(weights, inputs) + biases\n",
    "\n",
    "# Print the results\n",
    "print(layer_outputs)\n"
   ]
  },
  {
   "cell_type": "markdown",
   "id": "f03120a8",
   "metadata": {},
   "source": [
    "![neon](img/d14.png)"
   ]
  },
  {
   "cell_type": "markdown",
   "id": "c380b256",
   "metadata": {},
   "source": [
    "![neon](img/d15.png)"
   ]
  },
  {
   "cell_type": "markdown",
   "id": "8382da2c",
   "metadata": {},
   "source": [
    "This syntax involving the dot product of weights and inputs followed by the vector addition of bias is the most commonly used way to represent this calculation of ​ inputs·weights+bias ​ . To explain the order of parameters we are passing into ​ np.dot() , ​ we should think of it as whatever comes first will decide the output shape. In our case, we are passing a list of neuron weights first and then the inputs, as our goal is to get a list of neuron outputs. As we mentioned, a dot product\n",
    "of a matrix and a vector results in a list of dot products. The ​ np.dot() ​ method treats the matrix as a list of vectors and performs a dot product of each of those vectors with the other vector. In this example, we used that property to pass a matrix, which was a list of neuron weight vectors and a vector of inputs and get a list of dot products ​ — ​ neuron outputs."
   ]
  },
  {
   "cell_type": "markdown",
   "id": "b90b1b57",
   "metadata": {},
   "source": [
    "### A Batch of Data\n",
    "To train, neural networks tend to receive data in ​ batches.​ So far, the example input data have been only one sample (or ​ observation​ ) of various features called a feature set:\n",
    "inputs  =  [  1  ,  2  ,  3  , 2.5 ]\n",
    "Here, the  [  1  ,  2  ,  3  ,  2.5 ] ​ ​ data are somehow meaningful and descriptive to the output we desire. Imagine each number as a value from a different sensor, from the example in chapter 1, all simultaneously. Each of these values is a feature observation datum, and together they form a feature set instance​ , also called an ​ observation​ , or most commonly, a sample .\n",
    "![neon](img/d16.png)\n",
    "\n",
    "Often, neural networks expect to take in many ​ samples​ at a time for two reasons. One reason is that it’s faster to train in batches in parallel processing, and the other reason is that batches help with generalization during training. If you fit (perform a step of a training process) on one sample at a time, you’re highly likely to keep fitting to that individual sample, rather than slowly producing general tweaks to weights and biases that fit the entire dataset. Fitting or training in batches gives you a higher chance of making more meaningful changes to weights and biases. For the concept of fitment in batches rather than one sample at a time, the\n",
    "following animation can help:\n",
    "\n",
    "![neon](img/d17.png)"
   ]
  },
  {
   "cell_type": "markdown",
   "id": "ed11bc6c",
   "metadata": {},
   "source": [
    "An example of a batch of data could look like:\n",
    "    ![neon](img/d18.png)"
   ]
  },
  {
   "cell_type": "markdown",
   "id": "3482bc38",
   "metadata": {},
   "source": [
    "## Working with Batches of Observations\n",
    "\n",
    "In Python, lists are useful for holding individual samples and batches of observations. Consider the following batch of observations, where each sub-list represents a sample:\n",
    "\n",
    "$$\n",
    "\\text{inputs} = \\left[ \\begin{array}{cccc}\n",
    "1 & 2 & 3 & 2.5 \\\\\n",
    "2 & 5 & -1 & 2 \\\\\n",
    "-1.5 & 2.7 & 3.3 & -0.8\n",
    "\\end{array} \\right]\n",
    "$$\n",
    "\n",
    "Each row in this matrix represents a sample, also referred to as a feature set instance or observation.\n",
    "\n",
    "### Matrix Operations\n",
    "\n",
    "When dealing with batches of observations, we need to perform matrix operations. Specifically, we want to compute the dot product of a matrix of inputs with a matrix of weights. This operation is known as the **matrix product**.\n",
    "\n",
    "Given:\n",
    "- A matrix of inputs: \n",
    "\n",
    "$$\n",
    "\\mathbf{X} = \\left[ \\begin{array}{cccc}\n",
    "1 & 2 & 3 & 2.5 \\\\\n",
    "2 & 5 & -1 & 2 \\\\\n",
    "-1.5 & 2.7 & 3.3 & -0.8\n",
    "\\end{array} \\right]\n",
    "$$\n",
    "\n",
    "- A matrix of weights:\n",
    "\n",
    "$$\n",
    "\\mathbf{W} = \\left[ \\begin{array}{cccc}\n",
    "0.2 & 0.8 & -0.5 & 1.0 \\\\\n",
    "0.5 & -0.91 & 0.26 & -0.5 \\\\\n",
    "-0.26 & -0.27 & 0.17 & 0.87\n",
    "\\end{array} \\right]\n",
    "$$\n",
    "\n",
    "The matrix product is computed as:\n",
    "\n",
    "$$\n",
    "\\mathbf{Y} = \\mathbf{X} \\cdot \\mathbf{W}\n",
    "$$\n",
    "\n",
    "where \\( \\mathbf{Y} \\) is the resulting matrix of outputs. Each element \\( y_{ij} \\) in the result matrix is obtained by performing the dot product of the \\(i\\)-th row of \\( \\mathbf{X} \\) with the \\(j\\)-th column of \\( \\mathbf{W} \\).\n",
    "\n",
    "### Example\n",
    "\n",
    "If the input matrix \\( \\mathbf{X} \\) is:\n",
    "\n",
    "$$\n",
    "\\mathbf{X} = \\left[ \\begin{array}{cccc}\n",
    "1 & 2 & 3 & 2.5 \\\\\n",
    "2 & 5 & -1 & 2 \\\\\n",
    "-1.5 & 2.7 & 3.3 & -0.8\n",
    "\\end{array} \\right]\n",
    "$$\n",
    "\n",
    "And the weight matrix \\( \\mathbf{W} \\) is:\n",
    "\n",
    "$$\n",
    "\\mathbf{W} = \\left[ \\begin{array}{cccc}\n",
    "0.2 & 0.8 & -0.5 & 1.0 \\\\\n",
    "0.5 & -0.91 & 0.26 & -0.5 \\\\\n",
    "-0.26 & -0.27 & 0.17 & 0.87\n",
    "\\end{array} \\right]\n",
    "$$\n",
    "\n",
    "The resulting matrix \\( \\mathbf{Y} \\) will be:\n",
    "\n",
    "$$\n",
    "\\mathbf{Y} = \\mathbf{X} \\cdot \\mathbf{W}\n",
    "$$\n",
    "\n",
    "This matrix product operation efficiently handles the dot products between all pairs of rows from the input matrix and columns from the weight matrix, producing a matrix of outputs. \n",
    "\n",
    "### Summary\n",
    "\n",
    "In matrix operations, the dot product of matrices (or a matrix and a vector) produces a matrix where each element represents the result of a dot product between a row from one matrix and a column from the other matrix. This is fundamental in neural network computations, especially when handling batches of data.\n"
   ]
  },
  {
   "cell_type": "markdown",
   "id": "8843c8e1",
   "metadata": {},
   "source": [
    "# Matrix Product\n",
    "The ​ matrix product​ is an operation in which we have 2 matrices, and we are performing dot\n",
    "products of all combinations of rows from the first matrix and the columns of the 2nd matrix,\n",
    "resulting in a matrix of those atomic ​ dot products​ :\n",
    "    \n",
    "  ![n](img/d19.png) \n",
    "    \n",
    "    To perform a matrix product, the size of the second dimension of the left matrix must match the\n",
    "size of the first dimension of the right matrix. For example, if the left matrix has a shape of ​ (5, 4)\n",
    "then the right matrix must match this 4 within the first shape value ​ (4, 7) ​ . The shape of the\n",
    "resulting array is always the first dimension of the left array and the second dimension of the right\n",
    "array, ​ (5, 7) . ​ In the above example, the left matrix has a shape of ​ (5, 4) , ​ and the upper-right matrix\n",
    "has a shape of ​ (4, 5) ​ . The second dimension of the left array and the first dimension of the second\n",
    "array are both ​ 4 , ​ they match, and the resulting array has a shape of ​ (5, 5) . ​\n",
    "To elaborate, we can also show that we can perform the matrix product on vectors. In\n",
    "mathematics, we can have something called a column vector and row vector, which we’ll explain\n",
    "better shortly. They’re vectors, but represented as matrices with one of the dimensions having a\n",
    "size of 1:\n"
   ]
  },
  {
   "cell_type": "markdown",
   "id": "ad8f5270",
   "metadata": {},
   "source": [
    "To perform a matrix product, the size of the second dimension of the left matrix must match the\n",
    "size of the first dimension of the right matrix. For example, if the left matrix has a shape of ​ (5, 4)\n",
    "then the right matrix must match this 4 within the first shape value ​ (4, 7) ​ . The shape of the\n",
    "resulting array is always the first dimension of the left array and the second dimension of the right\n",
    "array, ​ (5, 7) . ​ In the above example, the left matrix has a shape of ​ (5, 4) , ​ and the upper-right matrix\n",
    "has a shape of ​ (4, 5) ​ . The second dimension of the left array and the first dimension of the second\n",
    "array are both ​ 4 , ​ they match, and the resulting array has a shape of ​ (5, 5) . ​\n",
    "To elaborate, we can also show that we can perform the matrix product on vectors. In\n",
    "mathematics, we can have something called a column vector and row vector, which we’ll explain\n",
    "better shortly. They’re vectors, but represented as matrices with one of the dimensions having a\n",
    "size of 1:\n",
    "     ![neon](img/d20.png) \n",
    "    \n",
    "    a ​ is a row vector. It looks very similar to a vector ​ a ​ (with an arrow above it) described earlier\n",
    "along with the vector product. The difference in notation between a row vector and vector are\n",
    "commas between values and the arrow above symbol ​ a ​ is missing on a row vector. It’s called a\n",
    "row vector as it’s a vector of a row of a matrix. ​ b , ​ on the other hand, is called a column vector\n",
    "because it’s a column of a matrix. As row and column vectors are technically matrices, we do not\n",
    "denote them with vector arrows anymore.\n",
    "When we perform the matrix product on them, the result becomes a matrix as well, like in the\n",
    "previous example, but containing just a single value, the same value as in the dot product example\n",
    "we have discussed previously:\n",
    "     ![n](d21.png) \n",
    "     In other words, row and column vectors are matrices with one of their dimensions being of a\n",
    "size of 1; and, we perform the ​ matrix product​ on them instead of the ​ dot product​ , which\n",
    "results in a matrix containing a single value. In this case, we performed a matrix multiplication\n",
    "of matrices with shapes ​ (1, 3) ​ and ​ (3, 1) ​ , then the resulting array has the shape ​ (1, 1) ​ or a size of\n",
    "1x1 ​ .\n",
    "     "
   ]
  },
  {
   "attachments": {
    "image-2.png": {
     "image/png": "[encoded data removed]"
    },
    "image.png": {
     "image/png": "[encoded data removed]"
    }
   },
   "cell_type": "markdown",
   "id": "79bc81aa",
   "metadata": {},
   "source": [
    "### Transposition for the Matrix Product\n",
    "How did we suddenly go from 2 vectors to row and column vectors? We used the relation of the\n",
    "dot product and matrix product saying that a dot product of two vectors equals a matrix product of\n",
    "a row and column vector (the arrows above the letters signify that they are vectors):\n",
    " ![n](img/d25.png) \n",
    " \n",
    " Now we need to get back to row and column vector definitions and update them with what we\n",
    "have just learned.\n",
    "A row vector is a matrix whose first dimension’s size (the number of rows) equals 1 and the\n",
    "second dimension’s size (the number of columns) equals ​ n ​ — the vector size. In other words, it’s\n",
    "a 1×n array or array of shape (1, n).\n",
    "\n",
    "A row vector is a matrix whose first dimension’s size (the number of rows) equals 1 and the second dimension’s size (the number of columns) equals ​ n ​ — the vector size. In other words, it’s a 1×n array or array of shape (1, n):\n",
    "![image.png](attachment:image.png)\n",
    "With NumPy and with 3 values, we would define it as: ![image-2.png](attachment:image-2.png)  Note the use of double brackets here. To transform a list into a matrix containing a single row\n",
    "(perform an equivalent operation of turning a vector into row vector), we can put it into a list and\n",
    "create numpy array:  a ​ = ​ [ ​ 1 ​ , ​ 2 ​ , ​ 3 ​ ]\n",
    "np.array([a])\n",
    ">>>\n",
    "array([[​ 1 ​ , ​ 2 ​ , ​ 3 ​ ]])"
   ]
  },
  {
   "attachments": {
    "image-2.png": {
     "image/png": "[encoded data removed]"
    },
    "image.png": {
     "image/png": "[encoded data removed]"
    }
   },
   "cell_type": "markdown",
   "id": "85cd4e2e",
   "metadata": {},
   "source": [
    " Where ​ np.expand_dims() ​ adds a new dimension at the index of the ​ axis . ​\n",
    "A column vector is a matrix where the second dWe have achieved the same result as the dot product of two vectors, but performed on matrices\n",
    "and returning a matrix ​ — ​ exactly what we expected and wanted. It’s worth mentioning that\n",
    "NumPy does not have a dedicated method for performing matrix product ​ — ​ the dot product and\n",
    "matrix product are both implemented in a single method: ​ np.dot() . ​\n",
    "As we can see, to perform a matrix product on two vectors, we took one as is, transforming it into\n",
    "a row vector, and the second one using transposition on it to turn it into a column vector. That\n",
    "allowed us to perform a matrix product that returned a matrix containing a single value. We also\n",
    "performed the matrix product on two example arrays to learn how a matrix product works ​ — ​ it\n",
    "creates a matrix of dot products of all combinations of row and column vectorsimension’s size equals 1, in other words, it’s an![image-2.png](attachment:image-2.png) \n",
    "array of shape (n, 1): ![image.png](attachment:image.png) "
   ]
  },
  {
   "cell_type": "markdown",
   "id": "ef5de14e",
   "metadata": {},
   "source": [
    "## From Dot Product to Matrix Product\n",
    "\n",
    "The dot product of two vectors can be extended to matrix operations, where vectors can be viewed as special cases of matrices. To understand this transition, let's explore the concepts of dot products, row vectors, and column vectors.\n",
    "\n",
    "### Dot Product of Two Vectors\n",
    "\n",
    "For two vectors $ \\mathbf{a} $ and $ \\mathbf{b} $, the dot product is calculated as:\n",
    "\n",
    "$$\n",
    "\\mathbf{a} \\cdot \\mathbf{b} = a_1 \\cdot b_1 + a_2 \\cdot b_2 + \\cdots + a_n \\cdot b_n\n",
    "$$\n",
    "\n",
    "where $ \\mathbf{a} $ and $ \\mathbf{b} $ are both vectors of the same dimension \\( n \\).\n",
    "\n",
    "### Transition to Matrix Product\n",
    "\n",
    "1. **Vectors as Matrices**: Vectors can be thought of as matrices with a single row or a single column:\n",
    "   - **Row Vector**: A 1 × \\( n \\) matrix.\n",
    "   - **Column Vector**: An \\( n \\) × 1 matrix.\n",
    "\n",
    "2. **Dot Product as Matrix Product**:\n",
    "   - If you have a row vector $ \\mathbf{a} $ (1 × $ n $) and a column vector $ \\mathbf{b} $ (\\( n \\) × 1), their dot product can be seen as the matrix product of these two vectors:\n",
    "   \n",
    "     $$\n",
    "     \\mathbf{a} \\cdot \\mathbf{b} = \\mathbf{A} \\cdot \\mathbf{B}\n",
    "     $$\n",
    "   \n",
    "   - Where:\n",
    "     $$\n",
    "     \\mathbf{A} = [a_1, a_2, \\dots, a_n]\n",
    "     $$\n",
    "     $$\n",
    "     \\mathbf{B} = \\begin{bmatrix}\n",
    "     b_1 \\\\\n",
    "     b_2 \\\\\n",
    "     \\vdots \\\\\n",
    "     b_n\n",
    "     \\end{bmatrix}\n",
    "     $$\n",
    "\n",
    "   - The resulting product is a single scalar, which is the sum of the element-wise products.\n",
    "\n",
    "### Matrix Product\n",
    "\n",
    "When extending to matrices, the concept of dot products scales to matrix products:\n",
    "- **Matrix Product**: If $ \\mathbf{X} $ is a matrix of size $ m \\times n $ and $ \\mathbf{W} $ is a matrix of size $ n \\times p $, their product $ \\mathbf{Y} $ is an $ m \\times p $ matrix:\n",
    "\n",
    "  $$\n",
    "  \\mathbf{Y} = \\mathbf{X} \\cdot \\mathbf{W}\n",
    "  $$\n",
    "\n",
    "  Each element $ y_{ij} $ of $ \\mathbf{Y} $ is computed as:\n",
    "\n",
    "  $$\n",
    "  y_{ij} = \\sum_{k=1}^n x_{ik} \\cdot w_{kj}\n",
    "  $$\n",
    "\n",
    "  where $ x_{ik} $ is an element from the \\(i\\)-th row of $ \\mathbf{X} $ and $ w_{kj} $ is an element from the $j$-th column of $ \\mathbf{W} $.\n",
    "\n",
    "### Summary\n",
    "\n",
    "- **Dot Product**: The dot product of two vectors can be viewed as the matrix product of a row vector and a column vector.\n",
    "- **Matrix Product**: Extending this concept, a matrix product involves performing dot products between rows of the first matrix and columns of the second matrix, resulting in a matrix of output values.\n",
    "\n",
    "This transition from vectors to matrices shows how the operations scale and how similar operations are applied in broader contexts, such as neural network computations where batches of data and layers are involved.\n"
   ]
  },
  {
   "attachments": {
    "image.png": {
     "image/png": "[encoded data removed]"
    }
   },
   "cell_type": "markdown",
   "id": "f8c1af97",
   "metadata": {},
   "source": [
    "# A Layer of Neurons & Batch of Data with NumPy.\n",
    "\n",
    "Let’s get back to our inputs and weights ​ — ​ when covering them, we mentioned that we need to\n",
    "perform dot products on all of the vectors that consist of both input and weight matrices. As we\n",
    "have just learned, that’s the operation that the matrix product performs. We just need to perform\n",
    "transposition on its second argument, which is the weights matrix in our case, to turn the row\n",
    "vectors it currently consists of into column vectors.\n",
    "Initially, we were able to perform the dot product on the inputs and the weights without a\n",
    "transposition because the weights were a matrix, but the inputs were just a vector. In this case, the\n",
    "dot product results in a vector of atomic dot products performed on each row from the matrix and\n",
    "this single vector. When inputs become a batch of inputs (a matrix), we need to perform the\n",
    "matrix product. It takes all of the combinations of rows from the left matrix and columns from the\n",
    "right matrix, performing the dot product on them and placing the results in an output array. Both\n",
    "arrays have the same shape, but, to perform the matrix product, the shape’s value from the index 1\n",
    "of the first matrix and the index 0 of the second matrix must match — they don’t right now.![image.png](attachment:image.png)"
   ]
  },
  {
   "cell_type": "markdown",
   "id": "3cea5d3f",
   "metadata": {},
   "source": [
    "If we look at this from the perspective of the input and weights, we need to perform the dot\n",
    "product of each input and each weight set in all of their combinations. The dot product takes the\n",
    "row from the first array and the column from the second one, but currently the data in both arrays\n",
    "are row-aligned. Transposing the second array shapes the data to be column-aligned. The matrix\n",
    "product of inputs and transposed weights will result in a matrix containing all atomic dot products\n",
    "that we need to calculate. The resulting matrix consists of outputs of all neurons after operations\n",
    "performed on each input sample:\n",
    "\n",
    "![](img/b2.png)\n",
    "Figure B2: the dot product of inputs and transposed weights.\n",
    "We mentioned that the second argument for ​ np.dot() ​ is going to be our transposed weights, so\n",
    "first will be inputs, but previously weights were the first parameter. We changed that here.\n",
    "Before, we were modeling neuron output using a single sample of data, a vector, but now we are\n",
    "a step forward when we model layer behavior on a batch of data. We could retain the current\n",
    "parameter order, but, as we’ll soon learn, it’s more useful to have a result consisting of a list of\n",
    "layer outputs per each sample than a list of neurons and their outputs sample-wise. We want the\n",
    "resulting array to be sample-related and not neuron-related as we’ll pass those samples further\n",
    "through the network, and the next layer will expect a batch of inputs.\n",
    "We can code this solution using NumPy now. We can perform ​ np.dot() ​ on a plain Python list of\n",
    "lists as NumPy will convert them to matrices internally. We are converting weights ourselves\n",
    "though to perform transposition operation first, ​ T ​ in the code, as plain Python list of lists does not\n",
    "support it. Speaking of biases, we do not need to make it a NumPy array for the same reason ​ —\n",
    "NumPy is going to do that internally Biases are a list, though, so they are a 1D array as a NumPy array. The addition of this bias vector\n",
    "to a matrix (of the dot products in this case) works similarly to the dot product of a matrix and\n",
    "vector that we described earlier; The bias vector will be added to each row vector of the matrix.\n",
    "Since each column of the matrix product result is an output of one neuron, and the vector is going\n",
    "to be added to each row vector, the first bias is going to be added to each first element of those\n",
    "vectors, second to second, etc. That’s what we need ​ — ​ the bias of each neuron needs to be added\n",
    "to all of the results of this neuron performed on all input vectors (samples).\n",
    "![](img/b3.png)\n",
    "\n",
    "Figure B3: Inputs multiplied by the weights, plus the bias"
   ]
  },
  {
   "cell_type": "code",
   "execution_count": 1,
   "id": "749dcbb5",
   "metadata": {},
   "outputs": [
    {
     "name": "stdout",
     "output_type": "stream",
     "text": [
      "[[ 4.8    1.21   2.385]\n",
      " [ 8.9   -1.81   0.2  ]\n",
      " [ 1.41   1.051  0.026]]\n"
     ]
    }
   ],
   "source": [
    "import numpy as np\n",
    "\n",
    "# Input samples (3 samples with 4 features each)\n",
    "inputs = [\n",
    "    [1.0, 2.0, 3.0, 2.5],\n",
    "    [2.0, 5.0, -1.0, 2.0],\n",
    "    [-1.5, 2.7, 3.3, -0.8]\n",
    "]\n",
    "\n",
    "# Weights for each neuron (3 neurons, each with 4 weights corresponding to the 4 inputs)\n",
    "weights = [\n",
    "    [0.2, 0.8, -0.5, 1.0],\n",
    "    [0.5, -0.91, 0.26, -0.5],\n",
    "    [-0.26, -0.27, 0.17, 0.87]\n",
    "]\n",
    "\n",
    "# Biases for each neuron\n",
    "biases = [2.0, 3.0, 0.5]\n",
    "\n",
    "# Compute the dot product of inputs and the transposed weights, and add the biases\n",
    "layer_outputs = np.dot(inputs, np.array(weights).T) + biases\n",
    "\n",
    "# Output the result\n",
    "print(layer_outputs)\n"
   ]
  },
  {
   "cell_type": "markdown",
   "id": "b33cb274",
   "metadata": {},
   "source": [
    "- The **inputs** are a list of three input samples, each with four features.\n",
    "- The **weights** represent the weight matrix for the three neurons, each with four weights.\n",
    "- The **biases** are applied after computing the dot product of the inputs and the transposed weights (since the weight matrix needs to align with the inputs matrix for the dot product).\n",
    "- **`np.dot(inputs, np.array(weights).T)`** computes the matrix product, and the biases are added element-wise to the result.\n"
   ]
  },
  {
   "cell_type": "code",
   "execution_count": null,
   "id": "9de315f3",
   "metadata": {},
   "outputs": [],
   "source": []
  }
 ],
 "metadata": {
  "kernelspec": {
   "display_name": "Python 3 (ipykernel)",
   "language": "python",
   "name": "python3"
  },
  "language_info": {
   "codemirror_mode": {
    "name": "ipython",
    "version": 3
   },
   "file_extension": ".py",
   "mimetype": "text/x-python",
   "name": "python",
   "nbconvert_exporter": "python",
   "pygments_lexer": "ipython3",
   "version": "3.7.16"
  }
 },
 "nbformat": 4,
 "nbformat_minor": 5
}
