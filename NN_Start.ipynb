{
 "cells": [
  {
   "cell_type": "code",
   "execution_count": null,
   "id": "b3ca4857",
   "metadata": {},
   "outputs": [],
   "source": [
    "######################################################################################\n",
    "'''Copyright (c) 2023, 2024 , Prof. Radhamadhab Dalai, ITER , Siksha O Aanusandhan University, \n",
    "Odisha, India\n",
    "Author's email address :  radhamadhabdalai@soa.ac.in'''\n",
    "###################################################################################"
   ]
  },
  {
   "cell_type": "code",
   "execution_count": 1,
   "id": "5e1d50f6",
   "metadata": {},
   "outputs": [
    {
     "name": "stdout",
     "output_type": "stream",
     "text": [
      "Minimum value found at x = [ 5.55111512e-17 -5.00000000e-01] , f(x) = 0.5\n"
     ]
    }
   ],
   "source": [
    "import numpy as np\n",
    "from scipy.optimize import minimize\n",
    "\n",
    "# Define your convex objective function\n",
    "def objective_function(x):\n",
    "    return np.dot(x.T, np.dot(A, x)) + np.dot(b.T, x) + c  # Example: f(x) = x'Ax + b'x + c\n",
    "\n",
    "# Define the derivative of your objective function\n",
    "def derivative_function(x):\n",
    "    return 2 * np.dot(A, x) + b  # Example: f'(x) = 2Ax + b\n",
    "\n",
    "# Define the problem parameters\n",
    "A = np.array([[2, 1], [1, 2]])  # Quadratic term matrix\n",
    "b = np.array([1, 2])  # Linear term vector\n",
    "c = 1  # Constant term\n",
    "\n",
    "initial_guess = np.array([0, 0])  # Initial guess for the minimum\n",
    "\n",
    "# Perform optimization using SciPy's minimize function\n",
    "result = minimize(objective_function, initial_guess, jac=derivative_function)\n",
    "\n",
    "# Output the result\n",
    "print(\"Minimum value found at x =\", result.x, \", f(x) =\", result.fun)"
   ]
  },
  {
   "cell_type": "code",
   "execution_count": 2,
   "id": "c85cfee4",
   "metadata": {},
   "outputs": [
    {
     "ename": "ValueError",
     "evalue": "shapes (2,1) and (2,) not aligned: 1 (dim 1) != 2 (dim 0)",
     "output_type": "error",
     "traceback": [
      "\u001b[0;31m---------------------------------------------------------------------------\u001b[0m",
      "\u001b[0;31mValueError\u001b[0m                                Traceback (most recent call last)",
      "\u001b[0;32m/tmp/ipykernel_8364/2234605093.py\u001b[0m in \u001b[0;36m<module>\u001b[0;34m\u001b[0m\n\u001b[1;32m     37\u001b[0m \u001b[0mx_opt\u001b[0m \u001b[0;34m=\u001b[0m \u001b[0mx0\u001b[0m\u001b[0;34m\u001b[0m\u001b[0;34m\u001b[0m\u001b[0m\n\u001b[1;32m     38\u001b[0m \u001b[0;32mfor\u001b[0m \u001b[0m_\u001b[0m \u001b[0;32min\u001b[0m \u001b[0mrange\u001b[0m\u001b[0;34m(\u001b[0m\u001b[0mmax_iter\u001b[0m\u001b[0;34m)\u001b[0m\u001b[0;34m:\u001b[0m\u001b[0;34m\u001b[0m\u001b[0;34m\u001b[0m\u001b[0m\n\u001b[0;32m---> 39\u001b[0;31m     \u001b[0mx_new\u001b[0m \u001b[0;34m=\u001b[0m \u001b[0mprojected_gradient_update\u001b[0m\u001b[0;34m(\u001b[0m\u001b[0mx_opt\u001b[0m\u001b[0;34m,\u001b[0m \u001b[0mstep_size\u001b[0m\u001b[0;34m)\u001b[0m\u001b[0;34m\u001b[0m\u001b[0;34m\u001b[0m\u001b[0m\n\u001b[0m\u001b[1;32m     40\u001b[0m     \u001b[0;32mif\u001b[0m \u001b[0mnp\u001b[0m\u001b[0;34m.\u001b[0m\u001b[0mlinalg\u001b[0m\u001b[0;34m.\u001b[0m\u001b[0mnorm\u001b[0m\u001b[0;34m(\u001b[0m\u001b[0mx_new\u001b[0m \u001b[0;34m-\u001b[0m \u001b[0mx_opt\u001b[0m\u001b[0;34m)\u001b[0m \u001b[0;34m<\u001b[0m \u001b[0mtolerance\u001b[0m\u001b[0;34m:\u001b[0m\u001b[0;34m\u001b[0m\u001b[0;34m\u001b[0m\u001b[0m\n\u001b[1;32m     41\u001b[0m         \u001b[0;32mbreak\u001b[0m\u001b[0;34m\u001b[0m\u001b[0;34m\u001b[0m\u001b[0m\n",
      "\u001b[0;32m/tmp/ipykernel_8364/2234605093.py\u001b[0m in \u001b[0;36mprojected_gradient_update\u001b[0;34m(x, step_size)\u001b[0m\n\u001b[1;32m     25\u001b[0m \u001b[0;32mdef\u001b[0m \u001b[0mprojected_gradient_update\u001b[0m\u001b[0;34m(\u001b[0m\u001b[0mx\u001b[0m\u001b[0;34m,\u001b[0m \u001b[0mstep_size\u001b[0m\u001b[0;34m)\u001b[0m\u001b[0;34m:\u001b[0m\u001b[0;34m\u001b[0m\u001b[0;34m\u001b[0m\u001b[0m\n\u001b[1;32m     26\u001b[0m     \u001b[0mgradient_x\u001b[0m \u001b[0;34m=\u001b[0m \u001b[0mgradient\u001b[0m\u001b[0;34m(\u001b[0m\u001b[0mx\u001b[0m\u001b[0;34m)\u001b[0m\u001b[0;34m\u001b[0m\u001b[0;34m\u001b[0m\u001b[0m\n\u001b[0;32m---> 27\u001b[0;31m     \u001b[0mprojected_gradient\u001b[0m \u001b[0;34m=\u001b[0m \u001b[0mgradient_x\u001b[0m \u001b[0;34m-\u001b[0m \u001b[0mnp\u001b[0m\u001b[0;34m.\u001b[0m\u001b[0mdot\u001b[0m\u001b[0;34m(\u001b[0m\u001b[0mA\u001b[0m\u001b[0;34m.\u001b[0m\u001b[0mT\u001b[0m\u001b[0;34m,\u001b[0m \u001b[0msolve\u001b[0m\u001b[0;34m(\u001b[0m\u001b[0mnp\u001b[0m\u001b[0;34m.\u001b[0m\u001b[0mdot\u001b[0m\u001b[0;34m(\u001b[0m\u001b[0mA\u001b[0m\u001b[0;34m,\u001b[0m \u001b[0mnp\u001b[0m\u001b[0;34m.\u001b[0m\u001b[0mdot\u001b[0m\u001b[0;34m(\u001b[0m\u001b[0mA\u001b[0m\u001b[0;34m.\u001b[0m\u001b[0mT\u001b[0m\u001b[0;34m,\u001b[0m \u001b[0mgradient_x\u001b[0m\u001b[0;34m)\u001b[0m\u001b[0;34m)\u001b[0m\u001b[0;34m,\u001b[0m \u001b[0mnp\u001b[0m\u001b[0;34m.\u001b[0m\u001b[0mdot\u001b[0m\u001b[0;34m(\u001b[0m\u001b[0mA\u001b[0m\u001b[0;34m,\u001b[0m \u001b[0mgradient_x\u001b[0m\u001b[0;34m)\u001b[0m\u001b[0;34m)\u001b[0m\u001b[0;34m)\u001b[0m\u001b[0;34m\u001b[0m\u001b[0;34m\u001b[0m\u001b[0m\n\u001b[0m\u001b[1;32m     28\u001b[0m     \u001b[0mx_new\u001b[0m \u001b[0;34m=\u001b[0m \u001b[0mx\u001b[0m \u001b[0;34m-\u001b[0m \u001b[0mstep_size\u001b[0m \u001b[0;34m*\u001b[0m \u001b[0mprojected_gradient\u001b[0m\u001b[0;34m\u001b[0m\u001b[0;34m\u001b[0m\u001b[0m\n\u001b[1;32m     29\u001b[0m     \u001b[0;32mreturn\u001b[0m \u001b[0mx_new\u001b[0m\u001b[0;34m\u001b[0m\u001b[0;34m\u001b[0m\u001b[0m\n",
      "\u001b[0;32m<__array_function__ internals>\u001b[0m in \u001b[0;36mdot\u001b[0;34m(*args, **kwargs)\u001b[0m\n",
      "\u001b[0;31mValueError\u001b[0m: shapes (2,1) and (2,) not aligned: 1 (dim 1) != 2 (dim 0)"
     ]
    }
   ],
   "source": [
    "import numpy as np\n",
    "from scipy.linalg import solve\n",
    "from scipy.optimize import minimize\n",
    "\n",
    "# Define problem parameters\n",
    "Q = np.array([[4, 1], [1, 2]])  # Positive definite matrix\n",
    "b = np.array([1, 2])  # Linear term vector\n",
    "A = np.array([[1, 1]])  # Constraint matrix\n",
    "b_constraint = np.array([1])  # Constraint vector\n",
    "\n",
    "# Define objective function and its gradient\n",
    "def objective_function(x):\n",
    "    return 0.5 * np.dot(x.T, np.dot(Q, x)) + np.dot(b.T, x)\n",
    "\n",
    "def gradient(x):\n",
    "    return np.dot(Q, x) + b\n",
    "\n",
    "# Define projection operator onto feasible set\n",
    "def project(x):\n",
    "    # Solve the equality-constrained least squares problem\n",
    "    x_proj = solve(np.dot(A.T, A), np.dot(A.T, b_constraint))\n",
    "    return x_proj\n",
    "\n",
    "# Projected gradient update\n",
    "def projected_gradient_update(x, step_size):\n",
    "    gradient_x = gradient(x)\n",
    "    projected_gradient = gradient_x - np.dot(A.T, solve(np.dot(A, np.dot(A.T, gradient_x)), np.dot(A, gradient_x)))\n",
    "    x_new = x - step_size * projected_gradient\n",
    "    return x_new\n",
    "\n",
    "# Perform optimization\n",
    "x0 = np.zeros_like(b)  # Initial guess\n",
    "max_iter = 1000  # Maximum number of iterations\n",
    "tolerance = 1e-6  # Tolerance for convergence\n",
    "step_size = 0.1  # Step size for projected gradient update\n",
    "\n",
    "x_opt = x0\n",
    "for _ in range(max_iter):\n",
    "    x_new = projected_gradient_update(x_opt, step_size)\n",
    "    if np.linalg.norm(x_new - x_opt) < tolerance:\n",
    "        break\n",
    "    x_opt = project(x_new)\n",
    "\n",
    "# Output the result\n",
    "print(\"Minimum value found at x =\", x_opt, \", f(x) =\", objective_function(x_opt))\n"
   ]
  },
  {
   "cell_type": "code",
   "execution_count": null,
   "id": "93669c3d",
   "metadata": {},
   "outputs": [],
   "source": []
  }
 ],
 "metadata": {
  "kernelspec": {
   "display_name": "Python 3 (ipykernel)",
   "language": "python",
   "name": "python3"
  },
  "language_info": {
   "codemirror_mode": {
    "name": "ipython",
    "version": 3
   },
   "file_extension": ".py",
   "mimetype": "text/x-python",
   "name": "python",
   "nbconvert_exporter": "python",
   "pygments_lexer": "ipython3",
   "version": "3.7.16"
  }
 },
 "nbformat": 4,
 "nbformat_minor": 5
}
